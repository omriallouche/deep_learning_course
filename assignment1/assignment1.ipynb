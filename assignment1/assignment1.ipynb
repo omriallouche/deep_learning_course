{
 "cells": [
  {
   "cell_type": "markdown",
   "metadata": {
    "colab_type": "text",
    "id": "X4WWyW4tM2Ir"
   },
   "source": [
    "# Deep Learning Theoretical Aspects - Assignment 1"
   ]
  },
  {
   "cell_type": "code",
   "execution_count": 0,
   "metadata": {
    "colab": {},
    "colab_type": "code",
    "id": "u1ZXXN9lM2Is"
   },
   "outputs": [],
   "source": [
    "import numpy as np\n",
    "import matplotlib.pyplot as plt\n",
    "import scipy as sp\n",
    "import sklearn\n",
    "%matplotlib inline"
   ]
  },
  {
   "cell_type": "markdown",
   "metadata": {
    "colab_type": "text",
    "id": "U2qwj-IZM2Iw"
   },
   "source": [
    "Much of the power of neural networks comes from the nonlinearity that is inherited in activation functions.  \n",
    "Show that a network of N layers that uses a linear activation function can be reduced into a network with just an input and output layers.\n"
   ]
  },
  {
   "cell_type": "code",
   "execution_count": 0,
   "metadata": {
    "colab": {},
    "colab_type": "code",
    "id": "jmDcfgIOM2Ix"
   },
   "outputs": [],
   "source": [
    "# Write your answer here"
   ]
  },
  {
   "cell_type": "markdown",
   "metadata": {
    "colab_type": "text",
    "id": "-e-VlB4eM2Iz"
   },
   "source": [
    "### Derivatives of Activation Functions\n",
    "Compute the derivative of these activation functions:\n",
    "\n",
    "1 Sigmoid\n",
    "<img src=\"https://cdn-images-1.medium.com/max/1200/1*Vo7UFksa_8Ne5HcfEzHNWQ.png\" width=\"150\">"
   ]
  },
  {
   "cell_type": "code",
   "execution_count": 0,
   "metadata": {
    "colab": {},
    "colab_type": "code",
    "id": "bk-7BzFQM2I0"
   },
   "outputs": [],
   "source": [
    "# Write your answer here"
   ]
  },
  {
   "cell_type": "markdown",
   "metadata": {
    "colab_type": "text",
    "id": "z0AiF6YjM2I3"
   },
   "source": [
    "2 Relu \n",
    "\n",
    "<img src=\"https://cloud.githubusercontent.com/assets/14886380/22743194/73ca0834-ee54-11e6-903f-a7efd247406b.png\" width=\"200\">"
   ]
  },
  {
   "cell_type": "code",
   "execution_count": 0,
   "metadata": {
    "colab": {},
    "colab_type": "code",
    "id": "BWTRtEX8M2I4"
   },
   "outputs": [],
   "source": [
    "# Write your answer here"
   ]
  },
  {
   "cell_type": "markdown",
   "metadata": {
    "colab_type": "text",
    "id": "8tcbCKStM2I7"
   },
   "source": [
    "3 Softmax\n",
    "<img src=\"https://wikimedia.org/api/rest_v1/media/math/render/svg/e348290cf48ddbb6e9a6ef4e39363568b67c09d3\" width=\"250\">"
   ]
  },
  {
   "cell_type": "code",
   "execution_count": 0,
   "metadata": {
    "colab": {},
    "colab_type": "code",
    "id": "0Qb8zeNBM2I8"
   },
   "outputs": [],
   "source": [
    "# Write your answer here"
   ]
  },
  {
   "cell_type": "markdown",
   "metadata": {
    "colab_type": "text",
    "id": "sRE-pv-zM2I-"
   },
   "source": [
    "### Back Propagation\n",
    "Use the delta rule and backprop to compute the derivatives for these computations.  \n",
    "Use these values -  \n",
    "*x1 = 1, x2 = 3, x3 = -2, x4 = 2*"
   ]
  },
  {
   "cell_type": "markdown",
   "metadata": {
    "colab_type": "text",
    "id": "3sJZ_0mWM2JA"
   },
   "source": [
    "```\n",
    "z = x1 + 5*x2 - 3*x3^2\n",
    "```"
   ]
  },
  {
   "cell_type": "code",
   "execution_count": 0,
   "metadata": {
    "colab": {},
    "colab_type": "code",
    "id": "yPXdNKsGM2JA"
   },
   "outputs": [],
   "source": [
    "# Write your answer here"
   ]
  },
  {
   "cell_type": "markdown",
   "metadata": {
    "colab_type": "text",
    "id": "pgwnBRJgM2JD"
   },
   "source": [
    "```\n",
    "z = x1*(x2-4) + exp(x3^2) / 5*x4^2\n",
    "```"
   ]
  },
  {
   "cell_type": "code",
   "execution_count": 0,
   "metadata": {
    "colab": {},
    "colab_type": "code",
    "id": "gQ1igYpxM2JE"
   },
   "outputs": [],
   "source": [
    "# Write your answer here"
   ]
  },
  {
   "cell_type": "markdown",
   "metadata": {
    "colab_type": "text",
    "id": "hCIx61WAM2JI"
   },
   "source": [
    "```\n",
    "z = 1/x3 + exp( (x1+5*(x2+3)) ^2 )\n",
    "```"
   ]
  },
  {
   "cell_type": "code",
   "execution_count": 0,
   "metadata": {
    "colab": {},
    "colab_type": "code",
    "id": "zSdvzQTlM2JJ"
   },
   "outputs": [],
   "source": [
    "# Write your answer here"
   ]
  },
  {
   "cell_type": "markdown",
   "metadata": {
    "colab_type": "text",
    "id": "x0t9ocxlM2JM"
   },
   "source": [
    "### Sample convolutions\n",
    "Consider the following convolution filters:\n",
    "```python\n",
    "k1 = [ [0 0 0], [0 1 0], [0 0 0] ]\n",
    "k2 = [ [0 0 0], [0 0 1], [0 0 0] ]\n",
    "k3 = [ [-1-1 -1], [-1 8 -1], [-1 -1 -1] ]\n",
    "k4 = [ [1 1 1], [1 1 1], [1 1 1] ] / 9\n",
    "```\n",
    "\n",
    "Can you guess what each of them computes?"
   ]
  },
  {
   "cell_type": "markdown",
   "metadata": {
    "colab_type": "text",
    "id": "QcwrzQguM2JN"
   },
   "source": [
    "#### Apply to arrays\n",
    "Apply the convolutions above to the following array:\n"
   ]
  },
  {
   "cell_type": "code",
   "execution_count": 0,
   "metadata": {
    "colab": {},
    "colab_type": "code",
    "id": "_W0seUnYM2JO"
   },
   "outputs": [],
   "source": [
    "x = np.array([[-1, -3, -4,  0, -1],\n",
    "       [ 2, -2, -4,  0, -2],\n",
    "       [-3, -2,  2,  2,  3],\n",
    "       [ 0, -3, -4, -4, -2],\n",
    "       [-4, -2,  2,  0,  1]])"
   ]
  },
  {
   "cell_type": "code",
   "execution_count": 0,
   "metadata": {
    "colab": {},
    "colab_type": "code",
    "id": "5LNrgDPJM2JQ"
   },
   "outputs": [],
   "source": [
    "# Write your answer here"
   ]
  },
  {
   "cell_type": "markdown",
   "metadata": {
    "colab_type": "text",
    "id": "PWreTtHEM2JT"
   },
   "source": [
    "What would be the output dimensions in these cases?\n",
    "1. No padding, stride of 1\n",
    "1. No padding, stride of 2\n",
    "1. Zero padding, stride of 1\n",
    "1. Zero padding, stride of 2"
   ]
  },
  {
   "cell_type": "code",
   "execution_count": 0,
   "metadata": {
    "colab": {},
    "colab_type": "code",
    "id": "1iy3ItrgM2JT"
   },
   "outputs": [],
   "source": [
    "# Write your answer here"
   ]
  },
  {
   "cell_type": "markdown",
   "metadata": {
    "colab_type": "text",
    "id": "hn6zBCbhM2JV"
   },
   "source": [
    "Consider convolutions with kernels of size 3x3, 5x5, 7x7 etc.\n",
    "\n",
    "Come up with an equation for the dimension of the output image after a convolution layer. Your equation should also take into account padding and the stride."
   ]
  },
  {
   "cell_type": "code",
   "execution_count": 0,
   "metadata": {
    "colab": {},
    "colab_type": "code",
    "id": "KIfmkghoM2JX"
   },
   "outputs": [],
   "source": [
    "# Write your answer here"
   ]
  },
  {
   "cell_type": "markdown",
   "metadata": {
    "colab_type": "text",
    "id": "XuFv87kEM2Ja"
   },
   "source": [
    "#### Apply to images\n",
    "Apply the convolution filters above on the image. Plot the results:"
   ]
  },
  {
   "cell_type": "code",
   "execution_count": 0,
   "metadata": {
    "colab": {},
    "colab_type": "code",
    "id": "foMgNADVM2Jb"
   },
   "outputs": [],
   "source": [
    "import matplotlib.pyplot as plt\n",
    "import matplotlib.image as mpimg\n",
    "im = mpimg.imread('lena.jpg')\n",
    "plt.imshow(im)"
   ]
  },
  {
   "cell_type": "code",
   "execution_count": 0,
   "metadata": {
    "colab": {},
    "colab_type": "code",
    "id": "o6XAsGV4M2Jg"
   },
   "outputs": [],
   "source": [
    "# Write your answer here"
   ]
  },
  {
   "cell_type": "markdown",
   "metadata": {
    "colab_type": "text",
    "id": "TjUIz0pQM2Jk"
   },
   "source": [
    "### Network dimensions\n",
    "Write below the dimensions and number of parameters in each layer of this network for the MNIST data (images of size 28x28, with a single grayscale depth dimension):\n",
    "\n",
    "- Convolutional Layer #1: Applies 32 5x5 filters (extracting 5x5-pixel subregions), with ReLU activation function\n",
    "- Pooling Layer #1: Performs max pooling with a 2x2 filter and stride of 2 (which specifies that pooled regions do not overlap)\n",
    "- Convolutional Layer #2: Applies 64 5x5 filters, with ReLU activation function\n",
    "- Pooling Layer #2: Again, performs max pooling with a 2x2 filter and stride of 2\n",
    "- Dense Layer #1: 1,024 neurons, with dropout regularization rate of 0.4 (probability of 0.4 that any given element will be dropped during training)\n",
    "- Dense Layer #2 (Logits Layer): 10 neurons, one for each digit target class (0–9).\n"
   ]
  },
  {
   "cell_type": "code",
   "execution_count": 0,
   "metadata": {
    "colab": {},
    "colab_type": "code",
    "id": "3vSuawFaM2Jl"
   },
   "outputs": [],
   "source": [
    "# Write your answer here"
   ]
  },
  {
   "cell_type": "markdown",
   "metadata": {
    "colab_type": "text",
    "id": "D8-6p8KxM2Jn"
   },
   "source": [
    "### Learning in biological neurons\n",
    "Try to come up with a learning algorithm for a neural network that replaces back propagation, and mimicks the operation of biological neurons."
   ]
  },
  {
   "cell_type": "code",
   "execution_count": 0,
   "metadata": {
    "colab": {},
    "colab_type": "code",
    "id": "0vd8WQMHM2Jn"
   },
   "outputs": [],
   "source": [
    "# Write your answer here"
   ]
  },
  {
   "cell_type": "markdown",
   "metadata": {
    "colab_type": "text",
    "id": "VvTBLm44M2Jq"
   },
   "source": [
    "### Puppy or bagel?\n",
    "We've seen in class the (hopefully) funny examples of challenging images (Chihuahua or muffin, puppy or bagel etc.). \n",
    "\n",
    "Let's say you were asked by someone to find more examples like that. You are able to call the 3 neural networks that won the recent ImageNet challenges, and get their predictions (the entire vector of probabilities for the 1000 classes).  \n",
    "\n",
    "Describe methods that might assist you in finding more examples."
   ]
  },
  {
   "cell_type": "code",
   "execution_count": 0,
   "metadata": {
    "colab": {},
    "colab_type": "code",
    "id": "WsTYNPDvM2Jr"
   },
   "outputs": [],
   "source": [
    "# Write your answer here"
   ]
  },
  {
   "cell_type": "markdown",
   "metadata": {
    "colab_type": "text",
    "id": "CIsnCby5M2Jt"
   },
   "source": [
    "#### Gradient Checking\n",
    "When computing the gradient yourself, it's recommended to manually check the gradient to make sure you haven't made an error.  \n",
    "We'll use the following equation for this, which produces more robust results than the standard definition of a derivative:\n",
    "\n",
    "\n",
    "<img src=\"http://ufldl.stanford.edu/wiki/images/math/a/2/3/a23bea0ab48ded7b9a979b68f6356613.png\" width=\"250\">"
   ]
  },
  {
   "cell_type": "markdown",
   "metadata": {
    "colab_type": "text",
    "id": "PVqcckZwM2Jt"
   },
   "source": [
    "We'll numerically approximate it using:\n",
    "\n",
    "<img src=\"http://ufldl.stanford.edu/wiki/images/math/4/8/a/48a000aed96c8595fcca2a45f48343ce.png\" width=\"250\">"
   ]
  },
  {
   "cell_type": "markdown",
   "metadata": {
    "colab_type": "text",
    "id": "_xAfbLz6M2Ju"
   },
   "source": [
    "Write a function that evaluates the gradient locally and use it to numerically compute the gradient along several randomly chosen dimensions. Compare your results with your analytically computed gradient. The numbers should match almost exactly along all dimensions."
   ]
  },
  {
   "cell_type": "code",
   "execution_count": 0,
   "metadata": {
    "colab": {},
    "colab_type": "code",
    "id": "9q5tPe8JM2Ju"
   },
   "outputs": [],
   "source": [
    "# Write your answer here"
   ]
  }
 ],
 "metadata": {
  "colab": {
   "name": "assignment1.ipynb",
   "provenance": [],
   "version": "0.3.2"
  },
  "kernelspec": {
   "display_name": "Python 3",
   "language": "python",
   "name": "python3"
  },
  "language_info": {
   "codemirror_mode": {
    "name": "ipython",
    "version": 3
   },
   "file_extension": ".py",
   "mimetype": "text/x-python",
   "name": "python",
   "nbconvert_exporter": "python",
   "pygments_lexer": "ipython3",
   "version": "3.7.3"
  }
 },
 "nbformat": 4,
 "nbformat_minor": 1
}
