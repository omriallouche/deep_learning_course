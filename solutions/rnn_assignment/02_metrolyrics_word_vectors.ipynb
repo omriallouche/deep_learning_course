{
 "cells": [
  {
   "cell_type": "markdown",
   "metadata": {},
   "source": [
    "# Metrolytics Word Vectors\n",
    "In this notebook we'll create embeddings for words in our corpus, and look for interesting phenomena."
   ]
  },
  {
   "cell_type": "code",
   "execution_count": 3,
   "metadata": {},
   "outputs": [],
   "source": [
    "import pandas as pd\n",
    "\n",
    "import matplotlib.pyplot as plt\n",
    "%matplotlib inline\n",
    " \n",
    "# from collections import Counter"
   ]
  },
  {
   "cell_type": "code",
   "execution_count": 4,
   "metadata": {},
   "outputs": [],
   "source": [
    "df = pd.read_parquet('lyrics.parquet')"
   ]
  },
  {
   "cell_type": "markdown",
   "metadata": {},
   "source": [
    "### Train word vectors\n",
    "Train word vectors using the Skipgram Word2vec algorithm and the gensim package.\n",
    "Make sure you perform the following:\n",
    "- Tokenize words\n",
    "- Lowercase all words\n",
    "- Remove punctuation marks\n",
    "- Remove rare words\n",
    "- Remove stopwords\n",
    "\n",
    "Use 300 as the dimension of the word vectors. Try different context sizes."
   ]
  },
  {
   "cell_type": "markdown",
   "metadata": {},
   "source": [
    "=====================  \n",
    "First, let's create a function for processing the tesxt. We will test this function on a song, as an example."
   ]
  },
  {
   "cell_type": "markdown",
   "metadata": {},
   "source": [
    "Finally, let's train word vectors on our new corpus. "
   ]
  },
  {
   "cell_type": "code",
   "execution_count": null,
   "metadata": {},
   "outputs": [],
   "source": [
    "# TODO: Add a parameter for context size\n",
    "import gensim\n",
    "w2v = gensim.models.Word2Vec(df.sent, sg=1, min_count=20, size=300, window=3, workers=7)\n",
    "model.init_sims(replace=True) # frees memory of word vectors but prevents further training"
   ]
  },
  {
   "cell_type": "markdown",
   "metadata": {},
   "source": [
    "### Review most similar words\n",
    "Get initial evaluation of the word vectors by analyzing the most similar words for a few interesting words in the text. \n",
    "\n",
    "Choose words yourself, and find the most similar words to them."
   ]
  },
  {
   "cell_type": "code",
   "execution_count": 2,
   "metadata": {},
   "outputs": [],
   "source": [
    "def evaluate_words(words_to_check = ['love', 'hate', 'lonely', 'heartache', 'success', 'guitar', 'god', 'beer', 'gun', 'police']):\n",
    "    for word in words_to_check:\n",
    "        print(word, ' -> ')\n",
    "        print('\\n'.join(['\\t{} ({:.2f}), '.format(tup[0], tup[1]) for tup in w2v.wv.similar_by_word(word, topn=5)]))\n",
    "        print()"
   ]
  },
  {
   "cell_type": "code",
   "execution_count": null,
   "metadata": {},
   "outputs": [],
   "source": [
    "evaluate_words()"
   ]
  },
  {
   "cell_type": "markdown",
   "metadata": {},
   "source": [
    "Now let's try with a smaller dimension of vectors (50):"
   ]
  },
  {
   "cell_type": "code",
   "execution_count": 242,
   "metadata": {},
   "outputs": [],
   "source": [
    "import gensim\n",
    "w2v = gensim.models.Word2Vec(df.sent, sg=1, min_count=5, size=50, workers=CPUS*2-1)"
   ]
  },
  {
   "cell_type": "code",
   "execution_count": 243,
   "metadata": {},
   "outputs": [
    {
     "name": "stdout",
     "output_type": "stream",
     "text": [
      "love  ->  ['unconditional (0.48), ', 'tenderness (0.45), ', 'tenderly (0.43), ', 'untrue (0.42), ', 'certainly (0.42), ']\n",
      "\n",
      "hate  ->  ['breeds (0.45), ', 'frenzy (0.44), ', 'hateful (0.44), ', 'successful (0.43), ', 'hatred (0.43), ']\n",
      "\n",
      "lonely  ->  ['lonesome (0.51), ', 'alone (0.46), ', 'dreary (0.44), ', 'unsure (0.43), ', 'deserted (0.43), ']\n",
      "\n",
      "heartache  ->  ['heartaches (0.45), ', 'sorrow (0.44), ', 'unsure (0.41), ', 'heartbreak (0.40), ', 'aches (0.37), ']\n",
      "\n",
      "success  ->  ['invest (0.45), ', 'effort (0.44), ', 'acknowledge (0.43), ', 'failures (0.42), ', 'interest (0.42), ']\n",
      "\n",
      "guitar  ->  ['saxophone (0.59), ', 'keyboards (0.54), ', 'banjo (0.52), ', 'vocals (0.52), ', 'fiddle (0.51), ']\n",
      "\n",
      "god  ->  ['lord (0.52), ', 'bless (0.50), ', 'almighty (0.49), ', 'praises (0.47), ', 'emmanuel (0.46), ']\n",
      "\n",
      "beer  ->  ['chug (0.58), ', 'bourbon (0.47), ', 'drinkin (0.46), ', 'bartender (0.45), ', 'beers (0.45), ']\n",
      "\n",
      "gun  ->  ['guns (0.53), ', 'aimed (0.50), ', 'bucked (0.45), ', 'rifle (0.45), ', 'barrel (0.45), ']\n",
      "\n",
      "police  ->  ['cops (0.53), ', 'officer (0.46), ', 'ducking (0.45), ', 'shooters (0.42), ', 'feds (0.42), ']\n",
      "\n"
     ]
    }
   ],
   "source": [
    "evaluate_words()"
   ]
  },
  {
   "cell_type": "markdown",
   "metadata": {},
   "source": [
    "### Word Vectors Algebra\n",
    "We've seen in class examples of algebraic games on the word vectors (e.g. man - woman + king = queen ). \n",
    "\n",
    "Try a few vector algebra terms, and evaluate how well they work. Try to use the Cosine distance and compare it to the Euclidean distance."
   ]
  },
  {
   "cell_type": "code",
   "execution_count": 279,
   "metadata": {},
   "outputs": [],
   "source": [
    "model = w2v"
   ]
  },
  {
   "cell_type": "code",
   "execution_count": 280,
   "metadata": {},
   "outputs": [
    {
     "data": {
      "text/plain": [
       "[('riverboat', 0.7404574155807495),\n",
       " ('towns', 0.7367786169052124),\n",
       " ('squatin', 0.7236427068710327),\n",
       " ('rattler', 0.7200068235397339),\n",
       " ('storeys', 0.7182438373565674),\n",
       " ('piddly', 0.7121356725692749),\n",
       " ('broncs', 0.7105759382247925),\n",
       " ('big', 0.709046483039856),\n",
       " ('extraordinary', 0.7045096158981323),\n",
       " ('uphill', 0.700311541557312)]"
      ]
     },
     "execution_count": 280,
     "metadata": {},
     "output_type": "execute_result"
    }
   ],
   "source": [
    "word_combinations_to_try = [\n",
    "    ['woman', 'king', 'man'], \n",
    "    ['girl', 'brother', 'boy']\n",
    "    ['man', 'daughter', 'woman'],\n",
    "    ['mother', 'he', 'father'],\n",
    "    ['strong', 'small', 'weak'] \n",
    "]\n",
    "\n",
    "for word_combination in word_combinations_to_try:\n",
    "    print(word_combination)\n",
    "    print( model.wv.most_similar_cosmul(positive=word_combination[:2], negative=word_combination[2])[0] )\n",
    "    print( model.wv.most_similar(positive=word_combination[:2], negative=word_combination[2])[0] )"
   ]
  },
  {
   "cell_type": "markdown",
   "metadata": {},
   "source": [
    "## Sentiment Analysis\n",
    "Estimate sentiment of words using word vectors.  \n",
    "In this section, we'll use the SemEval-2015 English Twitter Sentiment Lexicon.  \n",
    "The lexicon was used as an official test set in the SemEval-2015 shared Task #10: Subtask E, and contains a polarity score for words in range -1 (negative) to 1 (positive) - http://saifmohammad.com/WebPages/SCL.html#OPP"
   ]
  },
  {
   "cell_type": "markdown",
   "metadata": {},
   "source": [
    "Build a classifier for the sentiment of a word given its word vector. Split the data to a train and test sets, and report the model performance on both sets."
   ]
  },
  {
   "cell_type": "markdown",
   "metadata": {},
   "source": [
    "We start by downloading the data and extracting it. We will create a dictionary with the keys are the words and the values are their sentiment scores.  \n",
    "Note that the sentiment dataset contains terms of multiple words and hashtags - we will remove these from the dataset."
   ]
  },
  {
   "cell_type": "code",
   "execution_count": 248,
   "metadata": {},
   "outputs": [
    {
     "name": "stderr",
     "output_type": "stream",
     "text": [
      "'wget' is not recognized as an internal or external command,\n",
      "operable program or batch file.\n",
      "unzip:  cannot find or open SemEval2015-English-Twitter-Lexicon.zip, SemEval2015-English-Twitter-Lexicon.zip.zip or SemEval2015-English-Twitter-Lexicon.zip.ZIP.\n",
      "head: cannot open 'SemEval2015-English-Twitter-Lexicon/SemEval2015-English-Twitter-Lexicon.txt' for reading: No such file or directory\n"
     ]
    }
   ],
   "source": [
    "!wget http://saifmohammad.com/WebDocs/lexiconstoreleaseonsclpage/SemEval2015-English-Twitter-Lexicon.zip\n",
    "!unzip SemEval2015-English-Twitter-Lexicon.zip\n",
    "!head SemEval2015-English-Twitter-Lexicon/SemEval2015-English-Twitter-Lexicon.txt"
   ]
  },
  {
   "cell_type": "code",
   "execution_count": null,
   "metadata": {},
   "outputs": [],
   "source": [
    "!wget http://nlp.stanford.edu/data/glove.twitter.27B.zip\n",
    "!unzip glove.twitter.27B.zip"
   ]
  },
  {
   "cell_type": "code",
   "execution_count": null,
   "metadata": {},
   "outputs": [],
   "source": [
    "# https://radimrehurek.com/gensim/scripts/glove2word2vec.html\n",
    "if False:\n",
    "    tmp_file = get_tmpfile(\"w2v.twitter.27B.100d.txt\")\n",
    "    glove2word2vec('glove.twitter.27B.100d.txt', tmp_file)\n",
    "    model = KeyedVectors.load_word2vec_format(tmp_file)"
   ]
  },
  {
   "cell_type": "code",
   "execution_count": 281,
   "metadata": {},
   "outputs": [],
   "source": [
    "with open('SemEval2015-English-Twitter-Lexicon.txt', 'r') as f:\n",
    "    scores, twitter_sentiment_words = zip(*[line.strip().split() for line in f.readlines()])\n",
    "\n",
    "twitter_sentiment_words = [w[1:] if w.startswith('#') else w for w in twitter_sentiment_words]\n",
    "X = []\n",
    "y = []\n",
    "\n",
    "for i in range(len(scores)):\n",
    "    if twitter_sentiment_words[i] in model:\n",
    "        X.append(model[twitter_sentiment_words[i]])\n",
    "        y.append(scores[i])\n",
    "\n",
    "X = np.array(X, dtype='float')\n",
    "y = np.array(y, dtype='float')\n",
    "\n",
    "X_train, X_test, y_train, y_test = \\\n",
    "  train_test_split(X, y, test_size=0.1, random_state=0) # We used 10,000 songs from each category - 1,000 songs in the test set seem like a lot. "
   ]
  },
  {
   "cell_type": "markdown",
   "metadata": {},
   "source": [
    "Next let's build a regressor to predict the sentiment of a word from its word vector. We use the word vectors trained on our corpus of song lyrics.  \n",
    "Let's try a few different algorithms, and choose the one with the smallest MSE on the test set:"
   ]
  },
  {
   "cell_type": "code",
   "execution_count": 282,
   "metadata": {},
   "outputs": [
    {
     "name": "stdout",
     "output_type": "stream",
     "text": [
      "{'LinearRegression': 0.1461719188325224, 'MLPRegressor': 0.1400196267916689, 'RandomForestRegressor': 0.1328502358965349, 'GradientBoostingRegressor': 0.13311542397256862, 'SVR': 0.14364863448496495}\n"
     ]
    }
   ],
   "source": [
    "from sklearn import metrics\n",
    "\n",
    "from sklearn.neural_network import MLPRegressor\n",
    "from sklearn.linear_model import LinearRegression\n",
    "from sklearn.ensemble import RandomForestRegressor, GradientBoostingRegressor\n",
    "from sklearn.svm import SVR\n",
    "\n",
    "models = [\n",
    "    LinearRegression(),\n",
    "    MLPRegressor(max_iter=1000, tol=1e-5, hidden_layer_sizes=(300,200,100)),\n",
    "    RandomForestRegressor(),\n",
    "    GradientBoostingRegressor(),\n",
    "    SVR()\n",
    "]\n",
    "score = {}\n",
    "for model in models:\n",
    "    model_name = str(model).split('(')[0]\n",
    "    model.fit(X_train, y_train)\n",
    "    y_pred = model.predict(X_test)\n",
    "    score[model_name] = metrics.mean_squared_error(y_test, y_pred)\n",
    "\n",
    "print(score)"
   ]
  },
  {
   "cell_type": "code",
   "execution_count": 283,
   "metadata": {},
   "outputs": [],
   "source": [
    "model = models[-1]"
   ]
  },
  {
   "cell_type": "markdown",
   "metadata": {},
   "source": [
    "Use your trained model from the previous question to predict the sentiment score of words in the lyrics corpus that are not part of the original sentiment dataset. Review the words with the highest positive and negative sentiment. Do the results make sense?"
   ]
  },
  {
   "cell_type": "code",
   "execution_count": 285,
   "metadata": {},
   "outputs": [
    {
     "name": "stdout",
     "output_type": "stream",
     "text": [
      " --- top 20 negative sentiment score --\n",
      "insane      -0.953164\n",
      "murder      -0.881354\n",
      "brain       -0.851091\n",
      "dead        -0.730255\n",
      "dogs        -0.674408\n",
      "blame       -0.667665\n",
      "bleed       -0.647019\n",
      "shots       -0.630486\n",
      "knife       -0.618161\n",
      "escape      -0.609505\n",
      "killing     -0.608435\n",
      "screaming   -0.597452\n",
      "burns       -0.577888\n",
      "dog         -0.576041\n",
      "cries       -0.572600\n",
      "dry         -0.566243\n",
      "suck        -0.565417\n",
      "drown       -0.552088\n",
      "police      -0.548990\n",
      "bones       -0.544439\n",
      "dtype: float64\n",
      " --- top 20 positive sentiment score --\n",
      "glory        0.759939\n",
      "bells        0.776034\n",
      "together     0.811427\n",
      "lift         0.825720\n",
      "la           0.825809\n",
      "stars        0.826998\n",
      "ladies       0.828676\n",
      "shine        0.834932\n",
      "shining      0.839877\n",
      "jesus        0.870399\n",
      "magic        0.900729\n",
      "il           0.906875\n",
      "sing         0.909356\n",
      "brand        0.911102\n",
      "bright       0.923421\n",
      "per          0.931616\n",
      "lo           0.932336\n",
      "che          1.019308\n",
      "special      1.026534\n",
      "christmas    1.253884\n",
      "dtype: float64\n"
     ]
    }
   ],
   "source": [
    "num_words = 0\n",
    "test_words = []\n",
    "for w, _ in freqs_bg.most_common(10000):\n",
    "    if w not in twitter_sentiment_words and w in w2v:\n",
    "        test_words.append(w)\n",
    "        num_words += 1\n",
    "    if num_words == 1000:\n",
    "        break\n",
    "\n",
    "similar_words_features = np.array([w2v[w] for w in test_words], 'float')\n",
    "sentiment_scores = model.predict(similar_words_features)\n",
    "\n",
    "df_predicted_sentiment = pd.Series(sentiment_scores, index=test_words)\n",
    "\n",
    "print(' --- top 20 negative sentiment score --')\n",
    "print( df_predicted_sentiment.sort_values().head(20) )\n",
    "\n",
    "print()\n",
    "print(' --- top 20 positive sentiment score --')\n",
    "print( df_predicted_sentiment.sort_values().tail(20) )"
   ]
  },
  {
   "cell_type": "markdown",
   "metadata": {},
   "source": [
    "### Visualize Word Vectors\n",
    "In this section, you'll plot words on a 2D grid based on their inner similarity. We'll use the tSNE transformation to reduce dimensions from 300 to 2. You can get sample code from https://www.kaggle.com/pierremegret/gensim-word2vec-tutorial or other tutorials online.\n",
    "\n",
    "Perform the following:\n",
    "- Keep only the 3,000 most frequent words (after removing stopwords)\n",
    "- For this list, compute for each word its relative abundance in each of the genres\n",
    "- Compute the ratio between the proportion of each word in each genre and the proportion of the word in the entire corpus (the background distribution)\n",
    "- Pick the top 50 words for each genre. These words give good indication for that genre. Join the words from all genres into a single list of top significant words. \n",
    "- Compute tSNE transformation to 2D for all words, based on their word vectors\n",
    "- Plot the list of the top significant words in 2D. Next to each word output its text. The color of each point should indicate the genre for which it is most significant.\n",
    "\n",
    "You might prefer to use a different number of points or a slightly different methodology for improved results.  \n",
    "Analyze the results."
   ]
  },
  {
   "cell_type": "code",
   "execution_count": 141,
   "metadata": {},
   "outputs": [
    {
     "name": "stdout",
     "output_type": "stream",
     "text": [
      "Collecting tqdm\n",
      "  Downloading https://files.pythonhosted.org/packages/6c/4b/c38b5144cf167c4f52288517436ccafefe9dc01b8d1c190e18a6b154cd4a/tqdm-4.31.1-py2.py3-none-any.whl (48kB)\n",
      "Installing collected packages: tqdm\n",
      "Successfully installed tqdm-4.31.1\n"
     ]
    },
    {
     "name": "stderr",
     "output_type": "stream",
     "text": [
      "You are using pip version 19.0.2, however version 19.0.3 is available.\n",
      "You should consider upgrading via the 'python -m pip install --upgrade pip' command.\n"
     ]
    }
   ],
   "source": [
    "!pip install tqdm"
   ]
  },
  {
   "cell_type": "code",
   "execution_count": 164,
   "metadata": {},
   "outputs": [
    {
     "name": "stderr",
     "output_type": "stream",
     "text": [
      "\n",
      "\n",
      "0it [00:00, ?it/s]\n",
      "\n",
      "239it [00:00, 2298.59it/s]\n",
      "\n",
      "572it [00:00, 2511.28it/s]\n",
      "\n",
      "1138it [00:00, 2995.34it/s]\n",
      "\n",
      "1614it [00:00, 3341.95it/s]\n",
      "\n",
      "2166it [00:00, 3759.90it/s]\n",
      "\n",
      "2616it [00:00, 3914.02it/s]\n",
      "\n",
      "3071it [00:00, 4042.05it/s]\n",
      "\n",
      "3482it [00:00, 4014.89it/s]\n",
      "\n",
      "4139it [00:00, 4507.84it/s]\n",
      "\n",
      "4771it [00:01, 4886.83it/s]\n",
      "\n",
      "5387it [00:01, 5157.63it/s]\n",
      "\n",
      "6004it [00:01, 5368.40it/s]\n",
      "\n",
      "6559it [00:01, 4957.18it/s]\n",
      "\n",
      "7074it [00:01, 4537.21it/s]\n",
      "\n",
      "7681it [00:01, 4862.00it/s]\n",
      "\n",
      "8354it [00:01, 5254.26it/s]\n",
      "\n",
      "8968it [00:01, 5433.96it/s]\n",
      "\n",
      "9530it [00:02, 4489.43it/s]\n",
      "\n",
      "10019it [00:02, 4452.29it/s]\n",
      "\n",
      "10493it [00:02, 4336.07it/s]\n",
      "\n",
      "10947it [00:02, 4295.87it/s]\n",
      "\n",
      "11391it [00:02, 4144.05it/s]\n",
      "\n",
      "11817it [00:02, 3699.62it/s]\n",
      "\n",
      "12267it [00:02, 3868.10it/s]\n",
      "\n",
      "12750it [00:02, 4072.36it/s]\n",
      "\n",
      "13379it [00:02, 4515.25it/s]\n",
      "\n",
      "13855it [00:03, 4383.62it/s]\n",
      "\n",
      "14311it [00:03, 4190.89it/s]\n",
      "\n",
      "14748it [00:03, 4194.31it/s]\n",
      "\n",
      "15224it [00:03, 4302.71it/s]\n",
      "\n",
      "15663it [00:03, 4278.14it/s]\n",
      "\n",
      "16297it [00:03, 4698.67it/s]\n",
      "\n",
      "16784it [00:03, 3777.15it/s]\n",
      "\n",
      "17203it [00:03, 3467.41it/s]\n",
      "\n",
      "17583it [00:04, 3267.28it/s]\n",
      "\n",
      "17936it [00:04, 3001.24it/s]\n",
      "\n",
      "18259it [00:04, 2998.33it/s]\n",
      "\n",
      "18575it [00:04, 2847.74it/s]\n",
      "\n",
      "18897it [00:04, 2918.11it/s]\n",
      "\n",
      "19270it [00:04, 3091.20it/s]\n",
      "\n",
      "19907it [00:04, 3630.75it/s]\n",
      "\n",
      "20512it [00:04, 4092.40it/s]\n",
      "\n",
      "21058it [00:04, 4382.75it/s]\n",
      "\n",
      "21715it [00:05, 4826.23it/s]\n",
      "\n",
      "22357it [00:05, 5164.79it/s]\n",
      "\n",
      "22932it [00:05, 5269.00it/s]\n",
      "\n",
      "23533it [00:05, 5412.64it/s]\n",
      "\n",
      "24163it [00:05, 5591.63it/s]\n",
      "\n",
      "24738it [00:05, 5446.39it/s]\n",
      "\n",
      "25294it [00:05, 4518.82it/s]\n",
      "\n",
      "25781it [00:05, 4466.36it/s]\n",
      "\n",
      "26252it [00:06, 3369.19it/s]\n",
      "\n",
      "26646it [00:06, 2541.26it/s]\n",
      "\n",
      "26971it [00:06, 2173.80it/s]\n",
      "\n",
      "27247it [00:06, 2189.21it/s]\n",
      "\n",
      "27521it [00:06, 2306.44it/s]\n",
      "\n",
      "27782it [00:06, 2196.81it/s]\n",
      "\n",
      "28024it [00:06, 2117.28it/s]\n",
      "\n",
      "28252it [00:07, 2069.53it/s]\n",
      "\n",
      "28471it [00:07, 2056.97it/s]\n",
      "\n",
      "28685it [00:07, 2057.26it/s]\n",
      "\n",
      "28897it [00:07, 1982.76it/s]\n",
      "\n",
      "29100it [00:07, 1885.60it/s]\n",
      "\n",
      "29293it [00:07, 1793.02it/s]\n",
      "\n",
      "29477it [00:07, 1651.35it/s]\n",
      "\n",
      "29648it [00:07, 1509.59it/s]\n",
      "\n",
      "29805it [00:08, 1459.21it/s]\n",
      "\n",
      "29956it [00:08, 1377.40it/s]\n",
      "\n",
      "30098it [00:08, 1342.70it/s]\n",
      "\n",
      "30342it [00:08, 1540.42it/s]\n",
      "\n",
      "30597it [00:08, 1733.81it/s]\n",
      "\n",
      "30895it [00:08, 1967.00it/s]\n",
      "\n",
      "31170it [00:08, 2145.69it/s]\n",
      "\n",
      "31479it [00:08, 2341.04it/s]\n",
      "\n",
      "31786it [00:08, 2496.17it/s]\n",
      "\n",
      "32071it [00:09, 2564.77it/s]\n",
      "\n",
      "32348it [00:09, 2593.80it/s]\n",
      "\n",
      "32628it [00:09, 2622.92it/s]\n",
      "\n",
      "32897it [00:09, 2552.61it/s]\n",
      "\n",
      "33157it [00:09, 2450.74it/s]\n",
      "\n",
      "33407it [00:09, 2115.12it/s]\n",
      "\n",
      "33630it [00:09, 1906.15it/s]\n",
      "\n",
      "33833it [00:09, 1816.74it/s]\n",
      "\n",
      "34024it [00:09, 1762.24it/s]\n",
      "\n",
      "34207it [00:10, 1761.60it/s]\n",
      "\n",
      "34392it [00:10, 1766.86it/s]\n",
      "\n",
      "34580it [00:10, 1779.05it/s]\n",
      "\n",
      "34834it [00:10, 1936.96it/s]\n",
      "\n",
      "35137it [00:10, 2167.24it/s]\n",
      "\n",
      "35436it [00:10, 2340.21it/s]\n",
      "\n",
      "35690it [00:10, 2370.23it/s]\n",
      "\n",
      "35952it [00:10, 2413.22it/s]\n",
      "\n",
      "36217it [00:10, 2452.23it/s]\n",
      "\n",
      "36497it [00:11, 2519.92it/s]\n",
      "\n",
      "36756it [00:11, 2511.06it/s]\n",
      "\n",
      "37010it [00:11, 2461.37it/s]\n",
      "\n",
      "37265it [00:11, 2458.71it/s]\n",
      "\n",
      "37513it [00:11, 2300.64it/s]\n",
      "\n",
      "37747it [00:11, 2135.26it/s]\n",
      "\n",
      "37966it [00:11, 2078.08it/s]\n",
      "\n",
      "38178it [00:11, 1996.17it/s]\n",
      "\n",
      "38381it [00:11, 1937.44it/s]\n",
      "\n",
      "38578it [00:12, 1924.41it/s]\n",
      "\n",
      "38797it [00:12, 1975.60it/s]\n",
      "\n",
      "38997it [00:12, 1936.93it/s]\n",
      "\n",
      "39249it [00:12, 2061.01it/s]\n",
      "\n",
      "39500it [00:12, 2155.61it/s]\n",
      "\n",
      "39791it [00:12, 2315.31it/s]\n",
      "\n",
      "40116it [00:12, 2510.49it/s]\n",
      "\n",
      "40446it [00:12, 2678.55it/s]\n",
      "\n",
      "40761it [00:12, 2774.89it/s]\n",
      "\n",
      "41110it [00:12, 2927.22it/s]\n",
      "\n",
      "41411it [00:13, 2917.45it/s]\n",
      "\n",
      "41735it [00:13, 2974.20it/s]\n",
      "\n",
      "42037it [00:13, 2953.12it/s]\n",
      "\n",
      "42336it [00:13, 2895.44it/s]\n",
      "\n",
      "42628it [00:13, 2739.62it/s]\n",
      "\n",
      "42906it [00:13, 2657.01it/s]\n",
      "\n",
      "43175it [00:13, 2462.15it/s]\n",
      "\n",
      "43455it [00:13, 2527.14it/s]\n",
      "\n",
      "43770it [00:13, 2659.47it/s]\n",
      "\n",
      "44088it [00:14, 2767.79it/s]\n",
      "\n",
      "44370it [00:14, 2167.35it/s]\n",
      "\n",
      "44610it [00:14, 2114.57it/s]\n",
      "\n",
      "44875it [00:14, 2228.26it/s]\n",
      "\n",
      "45147it [00:14, 2332.17it/s]\n",
      "\n",
      "45413it [00:14, 2395.71it/s]\n",
      "\n",
      "45661it [00:14, 2365.17it/s]\n",
      "\n",
      "45907it [00:14, 2365.28it/s]\n",
      "\n",
      "46148it [00:15, 2245.74it/s]\n",
      "\n",
      "46377it [00:15, 2041.66it/s]\n",
      "\n",
      "46588it [00:15, 1865.07it/s]\n",
      "\n",
      "46782it [00:15, 1823.24it/s]\n",
      "\n",
      "46970it [00:15, 1777.42it/s]\n",
      "\n",
      "47152it [00:15, 1728.90it/s]\n",
      "\n",
      "47329it [00:15, 1681.64it/s]\n",
      "\n",
      "47500it [00:15, 1651.01it/s]\n",
      "\n",
      "47694it [00:15, 1710.08it/s]\n",
      "\n",
      "47946it [00:16, 1875.78it/s]\n",
      "\n",
      "48192it [00:16, 2000.00it/s]\n",
      "\n",
      "48441it [00:16, 2104.06it/s]\n",
      "\n",
      "48658it [00:16, 1983.92it/s]\n",
      "\n",
      "48863it [00:16, 1774.59it/s]\n",
      "\n",
      "49049it [00:16, 1664.29it/s]\n",
      "\n",
      "49223it [00:16, 1559.49it/s]\n",
      "\n",
      "49413it [00:16, 1631.23it/s]\n",
      "\n",
      "49582it [00:17, 1629.48it/s]\n",
      "\n",
      "49749it [00:17, 1622.42it/s]\n",
      "\n",
      "49914it [00:17, 1574.71it/s]\n",
      "\n",
      "50000it [00:17, 2893.91it/s]"
     ]
    }
   ],
   "source": [
    "from tqdm import tqdm \n",
    "\n",
    "freqs = {}\n",
    "for i,r in tqdm(df.iterrows()):\n",
    "    if r.genre not in freqs:\n",
    "        freqs[ r.genre ] = Counter()\n",
    "    freqs[ r.genre ].update(r.sent)"
   ]
  },
  {
   "cell_type": "code",
   "execution_count": 168,
   "metadata": {},
   "outputs": [],
   "source": [
    "freqs_bg = Counter()\n",
    "[freqs_bg.update(v) for v in freqs.values()];"
   ]
  },
  {
   "cell_type": "markdown",
   "metadata": {},
   "source": [
    "Let's check the most common words for each genre. Remember, here we only consider word occurrences. A word might be common in all genres. We will later examine words that are common in a specific genre more than the others."
   ]
  },
  {
   "cell_type": "code",
   "execution_count": 169,
   "metadata": {},
   "outputs": [
    {
     "data": {
      "text/plain": [
       "[('i', 547077),\n",
       " ('and', 95783),\n",
       " ('you', 80494),\n",
       " ('like', 77095),\n",
       " ('know', 65213),\n",
       " ('got', 64531),\n",
       " ('love', 63584),\n",
       " ('get', 53175),\n",
       " ('the', 48728),\n",
       " ('na', 44967),\n",
       " ('oh', 42762),\n",
       " ('one', 40394),\n",
       " ('see', 39686),\n",
       " ('but', 39556),\n",
       " ('go', 39009),\n",
       " ('it', 38756),\n",
       " ('time', 38213),\n",
       " ('never', 36731),\n",
       " ('let', 35949),\n",
       " ('cause', 33524)]"
      ]
     },
     "execution_count": 169,
     "metadata": {},
     "output_type": "execute_result"
    }
   ],
   "source": [
    "freqs_bg.most_common(20)"
   ]
  },
  {
   "cell_type": "code",
   "execution_count": 173,
   "metadata": {},
   "outputs": [
    {
     "data": {
      "text/html": [
       "<div>\n",
       "<style scoped>\n",
       "    .dataframe tbody tr th:only-of-type {\n",
       "        vertical-align: middle;\n",
       "    }\n",
       "\n",
       "    .dataframe tbody tr th {\n",
       "        vertical-align: top;\n",
       "    }\n",
       "\n",
       "    .dataframe thead th {\n",
       "        text-align: right;\n",
       "    }\n",
       "</style>\n",
       "<table border=\"1\" class=\"dataframe\">\n",
       "  <thead>\n",
       "    <tr style=\"text-align: right;\">\n",
       "      <th></th>\n",
       "      <th>Country</th>\n",
       "      <th>Hip-Hop</th>\n",
       "      <th>Metal</th>\n",
       "      <th>Pop</th>\n",
       "      <th>Rock</th>\n",
       "    </tr>\n",
       "  </thead>\n",
       "  <tbody>\n",
       "    <tr>\n",
       "      <th>0</th>\n",
       "      <td>i</td>\n",
       "      <td>i</td>\n",
       "      <td>i</td>\n",
       "      <td>i</td>\n",
       "      <td>i</td>\n",
       "    </tr>\n",
       "    <tr>\n",
       "      <th>1</th>\n",
       "      <td>and</td>\n",
       "      <td>like</td>\n",
       "      <td>the</td>\n",
       "      <td>love</td>\n",
       "      <td>and</td>\n",
       "    </tr>\n",
       "    <tr>\n",
       "      <th>2</th>\n",
       "      <td>love</td>\n",
       "      <td>got</td>\n",
       "      <td>and</td>\n",
       "      <td>and</td>\n",
       "      <td>you</td>\n",
       "    </tr>\n",
       "    <tr>\n",
       "      <th>3</th>\n",
       "      <td>you</td>\n",
       "      <td>get</td>\n",
       "      <td>you</td>\n",
       "      <td>you</td>\n",
       "      <td>know</td>\n",
       "    </tr>\n",
       "    <tr>\n",
       "      <th>4</th>\n",
       "      <td>know</td>\n",
       "      <td>and</td>\n",
       "      <td>life</td>\n",
       "      <td>oh</td>\n",
       "      <td>love</td>\n",
       "    </tr>\n",
       "    <tr>\n",
       "      <th>5</th>\n",
       "      <td>but</td>\n",
       "      <td>know</td>\n",
       "      <td>one</td>\n",
       "      <td>know</td>\n",
       "      <td>like</td>\n",
       "    </tr>\n",
       "    <tr>\n",
       "      <th>6</th>\n",
       "      <td>like</td>\n",
       "      <td>you</td>\n",
       "      <td>time</td>\n",
       "      <td>like</td>\n",
       "      <td>got</td>\n",
       "    </tr>\n",
       "    <tr>\n",
       "      <th>7</th>\n",
       "      <td>got</td>\n",
       "      <td>nigga</td>\n",
       "      <td>see</td>\n",
       "      <td>na</td>\n",
       "      <td>oh</td>\n",
       "    </tr>\n",
       "    <tr>\n",
       "      <th>8</th>\n",
       "      <td>one</td>\n",
       "      <td>cause</td>\n",
       "      <td>we</td>\n",
       "      <td>got</td>\n",
       "      <td>the</td>\n",
       "    </tr>\n",
       "    <tr>\n",
       "      <th>9</th>\n",
       "      <td>time</td>\n",
       "      <td>na</td>\n",
       "      <td>like</td>\n",
       "      <td>baby</td>\n",
       "      <td>it</td>\n",
       "    </tr>\n",
       "    <tr>\n",
       "      <th>10</th>\n",
       "      <td>oh</td>\n",
       "      <td>shit</td>\n",
       "      <td>never</td>\n",
       "      <td>let</td>\n",
       "      <td>na</td>\n",
       "    </tr>\n",
       "    <tr>\n",
       "      <th>11</th>\n",
       "      <td>na</td>\n",
       "      <td>see</td>\n",
       "      <td>a</td>\n",
       "      <td>go</td>\n",
       "      <td>but</td>\n",
       "    </tr>\n",
       "    <tr>\n",
       "      <th>12</th>\n",
       "      <td>the</td>\n",
       "      <td>go</td>\n",
       "      <td>it</td>\n",
       "      <td>get</td>\n",
       "      <td>time</td>\n",
       "    </tr>\n",
       "    <tr>\n",
       "      <th>13</th>\n",
       "      <td>it</td>\n",
       "      <td>yeah</td>\n",
       "      <td>know</td>\n",
       "      <td>one</td>\n",
       "      <td>never</td>\n",
       "    </tr>\n",
       "    <tr>\n",
       "      <th>14</th>\n",
       "      <td>go</td>\n",
       "      <td>love</td>\n",
       "      <td>to</td>\n",
       "      <td>want</td>\n",
       "      <td>one</td>\n",
       "    </tr>\n",
       "    <tr>\n",
       "      <th>15</th>\n",
       "      <td>never</td>\n",
       "      <td>let</td>\n",
       "      <td>in</td>\n",
       "      <td>never</td>\n",
       "      <td>get</td>\n",
       "    </tr>\n",
       "    <tr>\n",
       "      <th>16</th>\n",
       "      <td>heart</td>\n",
       "      <td>ya</td>\n",
       "      <td>world</td>\n",
       "      <td>but</td>\n",
       "      <td>see</td>\n",
       "    </tr>\n",
       "    <tr>\n",
       "      <th>17</th>\n",
       "      <td>way</td>\n",
       "      <td>back</td>\n",
       "      <td>away</td>\n",
       "      <td>time</td>\n",
       "      <td>go</td>\n",
       "    </tr>\n",
       "    <tr>\n",
       "      <th>18</th>\n",
       "      <td>back</td>\n",
       "      <td>niggas</td>\n",
       "      <td>take</td>\n",
       "      <td>it</td>\n",
       "      <td>want</td>\n",
       "    </tr>\n",
       "    <tr>\n",
       "      <th>19</th>\n",
       "      <td>get</td>\n",
       "      <td>the</td>\n",
       "      <td>eyes</td>\n",
       "      <td>see</td>\n",
       "      <td>we</td>\n",
       "    </tr>\n",
       "  </tbody>\n",
       "</table>\n",
       "</div>"
      ],
      "text/plain": [
       "   Country Hip-Hop  Metal    Pop   Rock\n",
       "0        i       i      i      i      i\n",
       "1      and    like    the   love    and\n",
       "2     love     got    and    and    you\n",
       "3      you     get    you    you   know\n",
       "4     know     and   life     oh   love\n",
       "5      but    know    one   know   like\n",
       "6     like     you   time   like    got\n",
       "7      got   nigga    see     na     oh\n",
       "8      one   cause     we    got    the\n",
       "9     time      na   like   baby     it\n",
       "10      oh    shit  never    let     na\n",
       "11      na     see      a     go    but\n",
       "12     the      go     it    get   time\n",
       "13      it    yeah   know    one  never\n",
       "14      go    love     to   want    one\n",
       "15   never     let     in  never    get\n",
       "16   heart      ya  world    but    see\n",
       "17     way    back   away   time     go\n",
       "18    back  niggas   take     it   want\n",
       "19     get     the   eyes    see     we"
      ]
     },
     "execution_count": 173,
     "metadata": {},
     "output_type": "execute_result"
    }
   ],
   "source": [
    "_ = {genre: [v[0] for v in counts.most_common(20)] for genre, counts in freqs.items()}\n",
    "pd.DataFrame(_)"
   ]
  },
  {
   "cell_type": "markdown",
   "metadata": {},
   "source": [
    "Can you spot the genre with the least amount of \"love\"?"
   ]
  },
  {
   "cell_type": "markdown",
   "metadata": {},
   "source": [
    "To find the most common words for each genre, we will search for words that are both common and have a large ratio between their relative frequency in a genre and their relative frequency in the background.\n"
   ]
  },
  {
   "cell_type": "markdown",
   "metadata": {},
   "source": [
    "Let's find the most common and rare words. We can count each genre separately, and then easily combine the counts to get the backgroun distribution. We need to remember that the number of songs in each genre is different."
   ]
  },
  {
   "cell_type": "code",
   "execution_count": 218,
   "metadata": {},
   "outputs": [
    {
     "data": {
      "text/plain": [
       "{'Country': 953578,\n",
       " 'Hip-Hop': 3220432,\n",
       " 'Metal': 1115887,\n",
       " 'Pop': 1716150,\n",
       " 'Rock': 1456006}"
      ]
     },
     "execution_count": 218,
     "metadata": {},
     "output_type": "execute_result"
    }
   ],
   "source": [
    "total_counts = {genre: sum(counts.values()) for genre, counts in freqs.items()}\n",
    "total_counts"
   ]
  },
  {
   "cell_type": "code",
   "execution_count": 201,
   "metadata": {},
   "outputs": [
    {
     "data": {
      "text/html": [
       "<div>\n",
       "<style scoped>\n",
       "    .dataframe tbody tr th:only-of-type {\n",
       "        vertical-align: middle;\n",
       "    }\n",
       "\n",
       "    .dataframe tbody tr th {\n",
       "        vertical-align: top;\n",
       "    }\n",
       "\n",
       "    .dataframe thead th {\n",
       "        text-align: right;\n",
       "    }\n",
       "</style>\n",
       "<table border=\"1\" class=\"dataframe\">\n",
       "  <thead>\n",
       "    <tr style=\"text-align: right;\">\n",
       "      <th></th>\n",
       "      <th>bg</th>\n",
       "    </tr>\n",
       "  </thead>\n",
       "  <tbody>\n",
       "    <tr>\n",
       "      <th>a</th>\n",
       "      <td>0.002656</td>\n",
       "    </tr>\n",
       "    <tr>\n",
       "      <th>about</th>\n",
       "      <td>0.000113</td>\n",
       "    </tr>\n",
       "    <tr>\n",
       "      <th>across</th>\n",
       "      <td>0.000237</td>\n",
       "    </tr>\n",
       "    <tr>\n",
       "      <th>act</th>\n",
       "      <td>0.000257</td>\n",
       "    </tr>\n",
       "    <tr>\n",
       "      <th>actin</th>\n",
       "      <td>0.000072</td>\n",
       "    </tr>\n",
       "  </tbody>\n",
       "</table>\n",
       "</div>"
      ],
      "text/plain": [
       "              bg\n",
       "a       0.002656\n",
       "about   0.000113\n",
       "across  0.000237\n",
       "act     0.000257\n",
       "actin   0.000072"
      ]
     },
     "execution_count": 201,
     "metadata": {},
     "output_type": "execute_result"
    }
   ],
   "source": [
    "total_counts_bg = sum(freqs_bg.values())\n",
    "word_freq = pd.DataFrame({w: freqs_bg[w] / total_counts_bg for w, v in freqs_bg.most_common(2000)}, index=['bg']).T\n",
    "word_freq.head()"
   ]
  },
  {
   "cell_type": "code",
   "execution_count": 220,
   "metadata": {},
   "outputs": [],
   "source": [
    "for genre in total_counts.keys():\n",
    "    word_freq[genre] = [ freqs[genre].get(w, 0)/total_counts[genre]/r['bg'] for w,r in word_freq.iterrows() ]"
   ]
  },
  {
   "cell_type": "code",
   "execution_count": 286,
   "metadata": {},
   "outputs": [
    {
     "name": "stdout",
     "output_type": "stream",
     "text": [
      "Pop\n",
      "amor, moi, che, puedo, pi, qui, quiero, dah, tus, ti, tout, ce, ser, ba, per, hoy, comme, toi, non, qu, ahora, noche, il, voy, vas, pum, eres, mmm, ai, tu, cuando, vida, et, ni, tiempo, vez, est, siempre, je, para, una, wa, eh, si, ga, pas, mis, dum, ooh, oooh\n",
      "\n",
      "Hip-Hop\n",
      "dre, yuh, niggas, tha, nigga, niggaz, rappers, gangsta, killa, hoes, pussy, glock, thugs, bitches, busta, nuh, homie, thug, yup, homies, hoe, fo, motherfuckers, motherfuckin, ballin, clip, flex, squad, rapper, pimp, mic, fi, bitch, mack, wit, mc, benz, bust, dope, hustle, beef, dick, weed, rap, shit, blunt, chrome, haters, playa, lil\n",
      "\n",
      "Rock\n",
      "seemed, saturday, liar, promises, california, likes, johnny, romance, mary, blues, saved, crawl, awake, changing, does, machine, wonderful, sleeping, wasted, lied, reasons, alive, says, changes, anyway, losing, oo, quite, someday, shines, hiding, band, anymore, darlin, everyone, shame, highway, mystery, well, voices, ga, laughing, brings, underneath, somehow, tide, american, were, surprise, stayed\n",
      "\n",
      "Country\n",
      "lonesome, whiskey, cowboy, guitar, country, texas, darlin, beer, highway, valley, blues, folks, heartache, darling, old, ol, mountain, dear, river, memory, hills, sang, married, dreamed, coffee, mile, roses, fields, truck, blue, mornin, rose, singin, sunshine, tender, train, leavin, happiness, boots, someday, moonlight, kissed, honey, prayer, loved, sweet, drinkin, beside, lord, arms\n",
      "\n",
      "Metal\n",
      "ancient, gods, eternal, chaos, flesh, sword, salvation, satan, screams, souls, eternity, demons, their, darkness, bleeding, flames, death, evil, remains, thy, towards, kingdom, sacrifice, suffer, shall, lust, blood, throne, human, destroy, reality, anger, embrace, within, disease, beyond, gates, endless, among, unknown, final, divine, winds, force, shadows, rage, veins, ashes, damned, path\n",
      "\n"
     ]
    }
   ],
   "source": [
    "genres = df.genre.unique()\n",
    "for genre in genres:\n",
    "    print( genre )\n",
    "    print( \", \".join(word_freq.sort_values(genre, ascending=False).index[:50].values ) )\n",
    "    print()"
   ]
  },
  {
   "cell_type": "code",
   "execution_count": 299,
   "metadata": {},
   "outputs": [],
   "source": [
    "import itertools\n",
    "words = list(set(list(itertools.chain.from_iterable([word_freq.sort_values(genre, ascending=False).index[:50].values for genre in genres]))))"
   ]
  },
  {
   "cell_type": "code",
   "execution_count": 322,
   "metadata": {},
   "outputs": [],
   "source": [
    "from sklearn.manifold import TSNE\n",
    "X = [w2v[w] for w in words]\n",
    "X_embedded = TSNE(n_components=2).fit_transform(X)"
   ]
  },
  {
   "cell_type": "code",
   "execution_count": 323,
   "metadata": {},
   "outputs": [
    {
     "data": {
      "text/plain": [
       "(245, 2)"
      ]
     },
     "execution_count": 323,
     "metadata": {},
     "output_type": "execute_result"
    }
   ],
   "source": [
    "X_embedded.shape"
   ]
  },
  {
   "cell_type": "code",
   "execution_count": 349,
   "metadata": {},
   "outputs": [],
   "source": [
    "colors = ['r', 'g', 'b', 'k', 'y']\n",
    "c = [colors[list(genres).index(word_freq.loc[w].argmax())] for w in words]\n",
    "word_genre = np.array( [word_freq.loc[w].argmax() for w in words] )"
   ]
  },
  {
   "cell_type": "code",
   "execution_count": 354,
   "metadata": {},
   "outputs": [
    {
     "data": {
      "image/png": "[encoded data removed]",
      "text/plain": [
       "<matplotlib.figure.Figure at 0x1f96da42b70>"
      ]
     },
     "metadata": {
      "needs_background": "light"
     },
     "output_type": "display_data"
    }
   ],
   "source": [
    "plt.figure(figsize=(20,12))\n",
    "\n",
    "x = X_embedded[:,0];\n",
    "y = X_embedded[:,1];\n",
    "\n",
    "for i,genre in enumerate(genres):\n",
    "    ids = np.where( word_genre==genre )[0]\n",
    "    plt.plot(x[ids], y[ids], '.', color=colors[i], label=genre)\n",
    "for i, word in enumerate(words):\n",
    "    plt.annotate(word, alpha=0.5, xy=(x[i], y[i]), xytext=(5, 2),\n",
    "                 textcoords='offset points', ha='right', va='bottom', size=12)\n",
    "plt.legend();"
   ]
  }
 ],
 "metadata": {
  "kernelspec": {
   "display_name": "Python 3",
   "language": "python",
   "name": "python3"
  },
  "language_info": {
   "codemirror_mode": {
    "name": "ipython",
    "version": 3
   },
   "file_extension": ".py",
   "mimetype": "text/x-python",
   "name": "python",
   "nbconvert_exporter": "python",
   "pygments_lexer": "ipython3",
   "version": "3.6.4"
  }
 },
 "nbformat": 4,
 "nbformat_minor": 2
}
