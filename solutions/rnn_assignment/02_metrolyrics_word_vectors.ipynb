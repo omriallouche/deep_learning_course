{
 "cells": [
  {
   "cell_type": "markdown",
   "metadata": {},
   "source": [
    "# Metrolytics Word Vectors\n",
    "In this notebook we'll create embeddings for words in our corpus, and look for interesting phenomena."
   ]
  },
  {
   "cell_type": "code",
   "execution_count": 1,
   "metadata": {},
   "outputs": [],
   "source": [
    "import pandas as pd\n",
    "import gensim\n",
    "\n",
    "import matplotlib.pyplot as plt\n",
    "%matplotlib inline\n",
    " \n",
    "# from collections import Counter"
   ]
  },
  {
   "cell_type": "code",
   "execution_count": 2,
   "metadata": {},
   "outputs": [],
   "source": [
    "df = pd.read_parquet('lyrics.parquet')"
   ]
  },
  {
   "cell_type": "markdown",
   "metadata": {},
   "source": [
    "### Train word vectors\n",
    "Train word vectors using the Skipgram Word2vec algorithm and the gensim package.\n",
    "Make sure you perform the following:\n",
    "- Tokenize words\n",
    "- Lowercase all words\n",
    "- Remove punctuation marks\n",
    "- Remove rare words\n",
    "- Remove stopwords\n",
    "\n",
    "Use 300 as the dimension of the word vectors. Try different context sizes."
   ]
  },
  {
   "cell_type": "markdown",
   "metadata": {},
   "source": [
    "=====================  \n",
    "First, let's create a function for processing the tesxt. We will test this function on a song, as an example."
   ]
  },
  {
   "cell_type": "markdown",
   "metadata": {},
   "source": [
    "Finally, let's train word vectors on our new corpus. "
   ]
  },
  {
   "cell_type": "code",
   "execution_count": 3,
   "metadata": {},
   "outputs": [],
   "source": [
    "w2v = gensim.models.Word2Vec(df.sent.str.split(), sg=1, min_count=20, size=300, window=3, workers=7)\n",
    "w2v.init_sims(replace=True) # frees memory of word vectors but prevents further training"
   ]
  },
  {
   "cell_type": "markdown",
   "metadata": {},
   "source": [
    "### Review most similar words\n",
    "Get initial evaluation of the word vectors by analyzing the most similar words for a few interesting words in the text. \n",
    "\n",
    "Choose words yourself, and find the most similar words to them."
   ]
  },
  {
   "cell_type": "code",
   "execution_count": 4,
   "metadata": {},
   "outputs": [],
   "source": [
    "def evaluate_words(words_to_check = ['love', 'hate', 'lonely', 'heartache', 'success', 'guitar', 'god', 'beer', 'gun', 'police']):\n",
    "    for word in words_to_check:\n",
    "        print(word, ' -> ')\n",
    "        print('\\n'.join(['\\t{} ({:.2f}), '.format(tup[0], tup[1]) for tup in w2v.wv.similar_by_word(word, topn=5)]))\n",
    "        print()"
   ]
  },
  {
   "cell_type": "code",
   "execution_count": 5,
   "metadata": {},
   "outputs": [
    {
     "name": "stdout",
     "output_type": "stream",
     "text": [
      "love  -> \n",
      "\tunconditionally (0.59), \n",
      "\tmistreat (0.58), \n",
      "\tmadly (0.56), \n",
      "\tboardwalk (0.55), \n",
      "\tunconditional (0.54), \n",
      "\n",
      "hate  -> \n",
      "\tretaliate (0.49), \n",
      "\tunderdog (0.49), \n",
      "\tconquers (0.48), \n",
      "\thatred (0.48), \n",
      "\tcomments (0.48), \n",
      "\n",
      "lonely  -> \n",
      "\tbrokenhearted (0.60), \n",
      "\tlongin (0.51), \n",
      "\tlonesome (0.51), \n",
      "\talone (0.50), \n",
      "\tloneliest (0.50), \n",
      "\n",
      "heartache  -> \n",
      "\theartaches (0.54), \n",
      "\tgrievin (0.54), \n",
      "\tdoggone (0.52), \n",
      "\theartland (0.50), \n",
      "\tbrokenhearted (0.50), \n",
      "\n",
      "success  -> \n",
      "\taccomplish (0.55), \n",
      "\timpressed (0.53), \n",
      "\tpriority (0.53), \n",
      "\tinterests (0.53), \n",
      "\toccur (0.53), \n",
      "\n",
      "guitar  -> \n",
      "\tviolin (0.60), \n",
      "\tfiddle (0.59), \n",
      "\tstrum (0.58), \n",
      "\tacoustic (0.58), \n",
      "\thaggard (0.58), \n",
      "\n",
      "god  -> \n",
      "\tforgives (0.56), \n",
      "\tlord (0.50), \n",
      "\tunworthy (0.48), \n",
      "\trighteousness (0.48), \n",
      "\tredeemer (0.48), \n",
      "\n",
      "beer  -> \n",
      "\tscotch (0.61), \n",
      "\tkeg (0.54), \n",
      "\tbourbon (0.53), \n",
      "\tbeers (0.52), \n",
      "\tpitcher (0.49), \n",
      "\n",
      "gun  -> \n",
      "\tguns (0.53), \n",
      "\tbadge (0.52), \n",
      "\tpistol (0.51), \n",
      "\tgat (0.49), \n",
      "\tglock (0.48), \n",
      "\n",
      "police  -> \n",
      "\tcops (0.60), \n",
      "\tfeds (0.52), \n",
      "\tcoppers (0.50), \n",
      "\tsurveillance (0.49), \n",
      "\twarrants (0.49), \n",
      "\n"
     ]
    }
   ],
   "source": [
    "evaluate_words()"
   ]
  },
  {
   "cell_type": "markdown",
   "metadata": {},
   "source": [
    "Now let's try with a smaller dimension of vectors (50):"
   ]
  },
  {
   "cell_type": "code",
   "execution_count": 6,
   "metadata": {},
   "outputs": [
    {
     "name": "stdout",
     "output_type": "stream",
     "text": [
      "love  -> \n",
      "\tunconditional (0.84), \n",
      "\tunconditionally (0.81), \n",
      "\tmistreat (0.81), \n",
      "\tdangerously (0.80), \n",
      "\tthrilled (0.78), \n",
      "\n",
      "hate  -> \n",
      "\tterrorize (0.75), \n",
      "\tretaliate (0.74), \n",
      "\tjealousy (0.74), \n",
      "\tlimitations (0.74), \n",
      "\taddictive (0.73), \n",
      "\n",
      "lonely  -> \n",
      "\tbrokenhearted (0.83), \n",
      "\talone (0.82), \n",
      "\tlonesome (0.81), \n",
      "\theartbroken (0.81), \n",
      "\tloneliest (0.77), \n",
      "\n",
      "heartache  -> \n",
      "\tdoggone (0.75), \n",
      "\theartaches (0.74), \n",
      "\tsorrow (0.74), \n",
      "\tlowdown (0.73), \n",
      "\theartbreak (0.73), \n",
      "\n",
      "success  -> \n",
      "\taccomplish (0.80), \n",
      "\texpense (0.78), \n",
      "\tinstitution (0.78), \n",
      "\twealth (0.78), \n",
      "\tconcern (0.78), \n",
      "\n",
      "guitar  -> \n",
      "\tpiano (0.82), \n",
      "\tstrum (0.81), \n",
      "\tjukebox (0.81), \n",
      "\tfiddle (0.80), \n",
      "\tharmonica (0.80), \n",
      "\n",
      "god  -> \n",
      "\tlord (0.86), \n",
      "\tforgives (0.82), \n",
      "\tthanking (0.77), \n",
      "\tpleas (0.76), \n",
      "\tprays (0.76), \n",
      "\n",
      "beer  -> \n",
      "\tscotch (0.80), \n",
      "\tkeg (0.79), \n",
      "\tbourbon (0.78), \n",
      "\tbrew (0.78), \n",
      "\tgin (0.77), \n",
      "\n",
      "gun  -> \n",
      "\tgat (0.83), \n",
      "\tglock (0.81), \n",
      "\tpistol (0.80), \n",
      "\tbadge (0.77), \n",
      "\tbullet (0.77), \n",
      "\n",
      "police  -> \n",
      "\tcops (0.87), \n",
      "\tfeds (0.80), \n",
      "\tlandlord (0.75), \n",
      "\tcoppers (0.75), \n",
      "\thousing (0.75), \n",
      "\n"
     ]
    }
   ],
   "source": [
    "w2v = gensim.models.Word2Vec(df.sent.str.split(), sg=1, min_count=20, size=50, window=2, workers=7)\n",
    "evaluate_words()"
   ]
  },
  {
   "cell_type": "code",
   "execution_count": 65,
   "metadata": {},
   "outputs": [
    {
     "name": "stdout",
     "output_type": "stream",
     "text": [
      "love  -> \n",
      "\tunloved (0.52), \n",
      "\tmistreat (0.52), \n",
      "\tunconditionally (0.51), \n",
      "\tgladness (0.51), \n",
      "\tfaithfully (0.51), \n",
      "\n",
      "hate  -> \n",
      "\tconquers (0.48), \n",
      "\tresent (0.47), \n",
      "\tdebate (0.46), \n",
      "\thatred (0.46), \n",
      "\tsuccessful (0.46), \n",
      "\n",
      "lonely  -> \n",
      "\tbrokenhearted (0.58), \n",
      "\tlowdown (0.54), \n",
      "\tlongin (0.53), \n",
      "\tlonesome (0.51), \n",
      "\tunloved (0.51), \n",
      "\n",
      "heartache  -> \n",
      "\tbrokenhearted (0.48), \n",
      "\toutgrow (0.46), \n",
      "\theartaches (0.45), \n",
      "\ttomorrows (0.45), \n",
      "\tmend (0.43), \n",
      "\n",
      "success  -> \n",
      "\teconomic (0.47), \n",
      "\timpressed (0.47), \n",
      "\texcel (0.46), \n",
      "\tstudents (0.45), \n",
      "\tinvest (0.45), \n",
      "\n",
      "guitar  -> \n",
      "\tharmonica (0.62), \n",
      "\tzappa (0.60), \n",
      "\tacoustic (0.57), \n",
      "\tkeyboards (0.57), \n",
      "\tsaxophone (0.57), \n",
      "\n",
      "god  -> \n",
      "\tlord (0.56), \n",
      "\trighteousness (0.54), \n",
      "\tforgives (0.53), \n",
      "\tbless (0.52), \n",
      "\tpreached (0.51), \n",
      "\n",
      "beer  -> \n",
      "\tbeers (0.56), \n",
      "\tkeg (0.50), \n",
      "\tscotch (0.50), \n",
      "\tbourbon (0.48), \n",
      "\tbooze (0.47), \n",
      "\n",
      "gun  -> \n",
      "\tguns (0.55), \n",
      "\tpistol (0.52), \n",
      "\tbadge (0.50), \n",
      "\tcocked (0.49), \n",
      "\taimed (0.49), \n",
      "\n",
      "police  -> \n",
      "\tcops (0.54), \n",
      "\tcoppers (0.53), \n",
      "\tharass (0.50), \n",
      "\tsurveillance (0.49), \n",
      "\tgangs (0.48), \n",
      "\n"
     ]
    }
   ],
   "source": [
    "w2v = gensim.models.Word2Vec(df.sent.str.split(), sg=1, min_count=20, size=300, window=7, workers=7)\n",
    "evaluate_words()"
   ]
  },
  {
   "cell_type": "markdown",
   "metadata": {},
   "source": [
    "### Word Vectors Algebra\n",
    "We've seen in class examples of algebraic games on the word vectors (e.g. man - woman + king = queen ). \n",
    "\n",
    "Try a few vector algebra terms, and evaluate how well they work. Try to use the Cosine distance and compare it to the Euclidean distance."
   ]
  },
  {
   "cell_type": "code",
   "execution_count": 8,
   "metadata": {},
   "outputs": [],
   "source": [
    "model = w2v"
   ]
  },
  {
   "cell_type": "code",
   "execution_count": 9,
   "metadata": {},
   "outputs": [
    {
     "name": "stdout",
     "output_type": "stream",
     "text": [
      "['woman', 'king', 'man']\n",
      "('queen', 0.9132322669029236)\n",
      "('queen', 0.693677544593811)\n",
      "\n",
      "['girl', 'brother', 'boy']\n",
      "('sister', 0.9256507754325867)\n",
      "('sister', 0.7619000673294067)\n",
      "\n",
      "['man', 'daughter', 'woman']\n",
      "('cousin', 0.9443888664245605)\n",
      "('cousin', 0.6846567392349243)\n",
      "\n",
      "['mother', 'he', 'father']\n",
      "('she', 0.8988032937049866)\n",
      "('she', 0.7440416812896729)\n",
      "\n",
      "['strong', 'small', 'weak']\n",
      "('big', 0.9908525943756104)\n",
      "('big', 0.6973406076431274)\n",
      "\n"
     ]
    }
   ],
   "source": [
    "word_combinations_to_try = [\n",
    "    ['woman', 'king', 'man'], \n",
    "    ['girl', 'brother', 'boy'],\n",
    "    ['man', 'daughter', 'woman'],\n",
    "    ['mother', 'he', 'father'],\n",
    "    ['strong', 'small', 'weak'] \n",
    "]\n",
    "\n",
    "for word_combination in word_combinations_to_try:\n",
    "    print(word_combination)\n",
    "    print( model.wv.most_similar_cosmul(positive=word_combination[:2], negative=word_combination[2:])[0] )\n",
    "    print( model.wv.most_similar(positive=word_combination[:2], negative=word_combination[2:])[0] )\n",
    "    print()"
   ]
  },
  {
   "cell_type": "markdown",
   "metadata": {},
   "source": [
    "## Frequent Words"
   ]
  },
  {
   "cell_type": "code",
   "execution_count": 21,
   "metadata": {
    "scrolled": true
   },
   "outputs": [
    {
     "name": "stdout",
     "output_type": "stream",
     "text": [
      "Requirement already satisfied: tqdm in c:\\programdata\\anaconda3\\lib\\site-packages (4.26.0)\n"
     ]
    },
    {
     "name": "stderr",
     "output_type": "stream",
     "text": [
      "twisted 18.7.0 requires PyHamcrest>=1.9.0, which is not installed.\n",
      "You are using pip version 10.0.1, however version 19.0.3 is available.\n",
      "You should consider upgrading via the 'python -m pip install --upgrade pip' command.\n"
     ]
    }
   ],
   "source": [
    "!pip install tqdm"
   ]
  },
  {
   "cell_type": "code",
   "execution_count": 28,
   "metadata": {},
   "outputs": [
    {
     "name": "stderr",
     "output_type": "stream",
     "text": [
      "49976it [00:07, 6974.08it/s]\n"
     ]
    }
   ],
   "source": [
    "from tqdm import tqdm \n",
    "from collections import Counter\n",
    "\n",
    "freqs = {}\n",
    "for i,r in tqdm(df.iterrows()):\n",
    "    if r.genre not in freqs:\n",
    "        freqs[ r.genre ] = Counter()\n",
    "    freqs[ r.genre ].update(r.sent.split())"
   ]
  },
  {
   "cell_type": "code",
   "execution_count": 29,
   "metadata": {},
   "outputs": [],
   "source": [
    "freqs_bg = Counter()\n",
    "[freqs_bg.update(v) for v in freqs.values()];"
   ]
  },
  {
   "cell_type": "markdown",
   "metadata": {},
   "source": [
    "Let's check the most common words for each genre. Remember, here we only consider word occurrences. A word might be common in all genres. We will later examine words that are common in a specific genre more than the others."
   ]
  },
  {
   "cell_type": "code",
   "execution_count": 30,
   "metadata": {},
   "outputs": [
    {
     "data": {
      "text/plain": [
       "[('i', 539569),\n",
       " ('and', 95043),\n",
       " ('you', 78251),\n",
       " ('like', 74491),\n",
       " ('know', 64923),\n",
       " ('got', 63800),\n",
       " ('love', 61436),\n",
       " ('get', 53567),\n",
       " ('the', 47974),\n",
       " ('na', 44756),\n",
       " ('oh', 42384),\n",
       " ('one', 40290),\n",
       " ('go', 38881),\n",
       " ('but', 38732),\n",
       " ('see', 38501),\n",
       " ('it', 37839),\n",
       " ('time', 37212),\n",
       " ('let', 35789),\n",
       " ('never', 35353),\n",
       " ('cause', 33196)]"
      ]
     },
     "execution_count": 30,
     "metadata": {},
     "output_type": "execute_result"
    }
   ],
   "source": [
    "freqs_bg.most_common(20)"
   ]
  },
  {
   "cell_type": "code",
   "execution_count": 31,
   "metadata": {},
   "outputs": [
    {
     "data": {
      "text/html": [
       "<div>\n",
       "<style scoped>\n",
       "    .dataframe tbody tr th:only-of-type {\n",
       "        vertical-align: middle;\n",
       "    }\n",
       "\n",
       "    .dataframe tbody tr th {\n",
       "        vertical-align: top;\n",
       "    }\n",
       "\n",
       "    .dataframe thead th {\n",
       "        text-align: right;\n",
       "    }\n",
       "</style>\n",
       "<table border=\"1\" class=\"dataframe\">\n",
       "  <thead>\n",
       "    <tr style=\"text-align: right;\">\n",
       "      <th></th>\n",
       "      <th>Pop</th>\n",
       "      <th>Hip-Hop</th>\n",
       "      <th>Rock</th>\n",
       "      <th>Country</th>\n",
       "      <th>Metal</th>\n",
       "    </tr>\n",
       "  </thead>\n",
       "  <tbody>\n",
       "    <tr>\n",
       "      <th>0</th>\n",
       "      <td>i</td>\n",
       "      <td>i</td>\n",
       "      <td>i</td>\n",
       "      <td>i</td>\n",
       "      <td>i</td>\n",
       "    </tr>\n",
       "    <tr>\n",
       "      <th>1</th>\n",
       "      <td>love</td>\n",
       "      <td>like</td>\n",
       "      <td>and</td>\n",
       "      <td>and</td>\n",
       "      <td>the</td>\n",
       "    </tr>\n",
       "    <tr>\n",
       "      <th>2</th>\n",
       "      <td>and</td>\n",
       "      <td>got</td>\n",
       "      <td>you</td>\n",
       "      <td>love</td>\n",
       "      <td>and</td>\n",
       "    </tr>\n",
       "    <tr>\n",
       "      <th>3</th>\n",
       "      <td>you</td>\n",
       "      <td>get</td>\n",
       "      <td>know</td>\n",
       "      <td>you</td>\n",
       "      <td>you</td>\n",
       "    </tr>\n",
       "    <tr>\n",
       "      <th>4</th>\n",
       "      <td>oh</td>\n",
       "      <td>and</td>\n",
       "      <td>love</td>\n",
       "      <td>but</td>\n",
       "      <td>life</td>\n",
       "    </tr>\n",
       "    <tr>\n",
       "      <th>5</th>\n",
       "      <td>know</td>\n",
       "      <td>know</td>\n",
       "      <td>like</td>\n",
       "      <td>like</td>\n",
       "      <td>one</td>\n",
       "    </tr>\n",
       "    <tr>\n",
       "      <th>6</th>\n",
       "      <td>na</td>\n",
       "      <td>you</td>\n",
       "      <td>the</td>\n",
       "      <td>know</td>\n",
       "      <td>time</td>\n",
       "    </tr>\n",
       "    <tr>\n",
       "      <th>7</th>\n",
       "      <td>like</td>\n",
       "      <td>nigga</td>\n",
       "      <td>got</td>\n",
       "      <td>got</td>\n",
       "      <td>a</td>\n",
       "    </tr>\n",
       "    <tr>\n",
       "      <th>8</th>\n",
       "      <td>got</td>\n",
       "      <td>na</td>\n",
       "      <td>oh</td>\n",
       "      <td>one</td>\n",
       "      <td>see</td>\n",
       "    </tr>\n",
       "    <tr>\n",
       "      <th>9</th>\n",
       "      <td>baby</td>\n",
       "      <td>cause</td>\n",
       "      <td>na</td>\n",
       "      <td>time</td>\n",
       "      <td>like</td>\n",
       "    </tr>\n",
       "    <tr>\n",
       "      <th>10</th>\n",
       "      <td>let</td>\n",
       "      <td>shit</td>\n",
       "      <td>it</td>\n",
       "      <td>oh</td>\n",
       "      <td>we</td>\n",
       "    </tr>\n",
       "    <tr>\n",
       "      <th>11</th>\n",
       "      <td>get</td>\n",
       "      <td>go</td>\n",
       "      <td>time</td>\n",
       "      <td>na</td>\n",
       "      <td>never</td>\n",
       "    </tr>\n",
       "    <tr>\n",
       "      <th>12</th>\n",
       "      <td>go</td>\n",
       "      <td>see</td>\n",
       "      <td>but</td>\n",
       "      <td>the</td>\n",
       "      <td>it</td>\n",
       "    </tr>\n",
       "    <tr>\n",
       "      <th>13</th>\n",
       "      <td>one</td>\n",
       "      <td>yeah</td>\n",
       "      <td>one</td>\n",
       "      <td>go</td>\n",
       "      <td>know</td>\n",
       "    </tr>\n",
       "    <tr>\n",
       "      <th>14</th>\n",
       "      <td>want</td>\n",
       "      <td>let</td>\n",
       "      <td>never</td>\n",
       "      <td>it</td>\n",
       "      <td>in</td>\n",
       "    </tr>\n",
       "    <tr>\n",
       "      <th>15</th>\n",
       "      <td>it</td>\n",
       "      <td>back</td>\n",
       "      <td>go</td>\n",
       "      <td>never</td>\n",
       "      <td>to</td>\n",
       "    </tr>\n",
       "    <tr>\n",
       "      <th>16</th>\n",
       "      <td>but</td>\n",
       "      <td>ya</td>\n",
       "      <td>see</td>\n",
       "      <td>way</td>\n",
       "      <td>world</td>\n",
       "    </tr>\n",
       "    <tr>\n",
       "      <th>17</th>\n",
       "      <td>la</td>\n",
       "      <td>the</td>\n",
       "      <td>get</td>\n",
       "      <td>back</td>\n",
       "      <td>away</td>\n",
       "    </tr>\n",
       "    <tr>\n",
       "      <th>18</th>\n",
       "      <td>never</td>\n",
       "      <td>love</td>\n",
       "      <td>want</td>\n",
       "      <td>heart</td>\n",
       "      <td>eyes</td>\n",
       "    </tr>\n",
       "    <tr>\n",
       "      <th>19</th>\n",
       "      <td>time</td>\n",
       "      <td>niggas</td>\n",
       "      <td>we</td>\n",
       "      <td>get</td>\n",
       "      <td>die</td>\n",
       "    </tr>\n",
       "  </tbody>\n",
       "</table>\n",
       "</div>"
      ],
      "text/plain": [
       "      Pop Hip-Hop   Rock Country  Metal\n",
       "0       i       i      i       i      i\n",
       "1    love    like    and     and    the\n",
       "2     and     got    you    love    and\n",
       "3     you     get   know     you    you\n",
       "4      oh     and   love     but   life\n",
       "5    know    know   like    like    one\n",
       "6      na     you    the    know   time\n",
       "7    like   nigga    got     got      a\n",
       "8     got      na     oh     one    see\n",
       "9    baby   cause     na    time   like\n",
       "10    let    shit     it      oh     we\n",
       "11    get      go   time      na  never\n",
       "12     go     see    but     the     it\n",
       "13    one    yeah    one      go   know\n",
       "14   want     let  never      it     in\n",
       "15     it    back     go   never     to\n",
       "16    but      ya    see     way  world\n",
       "17     la     the    get    back   away\n",
       "18  never    love   want   heart   eyes\n",
       "19   time  niggas     we     get    die"
      ]
     },
     "execution_count": 31,
     "metadata": {},
     "output_type": "execute_result"
    }
   ],
   "source": [
    "_ = {genre: [v[0] for v in counts.most_common(20)] for genre, counts in freqs.items()}\n",
    "pd.DataFrame(_)"
   ]
  },
  {
   "cell_type": "markdown",
   "metadata": {},
   "source": [
    "Can you spot the genre with the least amount of \"love\"?"
   ]
  },
  {
   "cell_type": "markdown",
   "metadata": {},
   "source": [
    "To find the most common words for each genre, we will search for words that are both common and have a large ratio between their relative frequency in a genre and their relative frequency in the background.\n"
   ]
  },
  {
   "cell_type": "markdown",
   "metadata": {},
   "source": [
    "Let's find the most common and rare words. We can count each genre separately, and then easily combine the counts to get the backgroun distribution. We need to remember that the number of songs in each genre is different."
   ]
  },
  {
   "cell_type": "code",
   "execution_count": 32,
   "metadata": {},
   "outputs": [
    {
     "data": {
      "text/plain": [
       "{'Pop': 1756442,\n",
       " 'Hip-Hop': 3167145,\n",
       " 'Rock': 1430304,\n",
       " 'Country': 945064,\n",
       " 'Metal': 1085849}"
      ]
     },
     "execution_count": 32,
     "metadata": {},
     "output_type": "execute_result"
    }
   ],
   "source": [
    "total_counts = {genre: sum(counts.values()) for genre, counts in freqs.items()}\n",
    "total_counts"
   ]
  },
  {
   "cell_type": "code",
   "execution_count": 33,
   "metadata": {},
   "outputs": [
    {
     "data": {
      "text/html": [
       "<div>\n",
       "<style scoped>\n",
       "    .dataframe tbody tr th:only-of-type {\n",
       "        vertical-align: middle;\n",
       "    }\n",
       "\n",
       "    .dataframe tbody tr th {\n",
       "        vertical-align: top;\n",
       "    }\n",
       "\n",
       "    .dataframe thead th {\n",
       "        text-align: right;\n",
       "    }\n",
       "</style>\n",
       "<table border=\"1\" class=\"dataframe\">\n",
       "  <thead>\n",
       "    <tr style=\"text-align: right;\">\n",
       "      <th></th>\n",
       "      <th>bg</th>\n",
       "    </tr>\n",
       "  </thead>\n",
       "  <tbody>\n",
       "    <tr>\n",
       "      <th>i</th>\n",
       "      <td>0.064351</td>\n",
       "    </tr>\n",
       "    <tr>\n",
       "      <th>and</th>\n",
       "      <td>0.011335</td>\n",
       "    </tr>\n",
       "    <tr>\n",
       "      <th>you</th>\n",
       "      <td>0.009332</td>\n",
       "    </tr>\n",
       "    <tr>\n",
       "      <th>like</th>\n",
       "      <td>0.008884</td>\n",
       "    </tr>\n",
       "    <tr>\n",
       "      <th>know</th>\n",
       "      <td>0.007743</td>\n",
       "    </tr>\n",
       "  </tbody>\n",
       "</table>\n",
       "</div>"
      ],
      "text/plain": [
       "            bg\n",
       "i     0.064351\n",
       "and   0.011335\n",
       "you   0.009332\n",
       "like  0.008884\n",
       "know  0.007743"
      ]
     },
     "execution_count": 33,
     "metadata": {},
     "output_type": "execute_result"
    }
   ],
   "source": [
    "total_counts_bg = sum(freqs_bg.values())\n",
    "word_freq = pd.DataFrame({w: freqs_bg[w] / total_counts_bg for w, v in freqs_bg.most_common(2000)}, index=['bg']).T\n",
    "word_freq.head()"
   ]
  },
  {
   "cell_type": "code",
   "execution_count": 34,
   "metadata": {},
   "outputs": [],
   "source": [
    "for genre in total_counts.keys():\n",
    "    word_freq[genre] = [ freqs[genre].get(w, 0)/total_counts[genre]/r['bg'] for w,r in word_freq.iterrows() ]"
   ]
  },
  {
   "cell_type": "code",
   "execution_count": 35,
   "metadata": {},
   "outputs": [
    {
     "name": "stdout",
     "output_type": "stream",
     "text": [
      "Pop\n",
      "amor, io, che, pi, ti, tus, moi, ce, vez, puedo, toi, qui, eres, eh, quiero, non, hoy, tout, et, est, il, ci, comme, sei, per, ser, ni, qu, ba, ahora, voy, mis, tiempo, tu, cuando, siempre, ooh, pas, te, ai, todo, si, je, mundo, ding, por, vida, para, lover, tan\n",
      "\n",
      "Hip-Hop\n",
      "dre, yuh, niggas, gangsta, rappers, nigga, niggaz, hoes, motherfuckin, glock, bitches, thugs, thug, killa, yall, homies, pussy, beef, nuh, homie, benz, haters, tha, motherfuckers, squad, pimp, motherfucking, mic, rapper, bitch, rap, dick, hoe, clip, dope, playa, fo, wit, shit, lil, bust, poppin, weed, tryna, mack, hustle, blunt, shorty, crew, ass\n",
      "\n",
      "Rock\n",
      "ga, wa, bop, ik, american, wasted, changing, blues, hiding, everyone, anyway, liar, anymore, doo, ooo, does, poison, anyone, waited, mistakes, says, seemed, changes, santa, well, save, underneath, driving, bones, likes, asleep, sleeping, highway, answers, working, counting, wo, turning, began, walks, california, edge, strange, shadow, fading, saved, fine, lonely, did, news\n",
      "\n",
      "Country\n",
      "lonesome, cowboy, whiskey, country, guitar, texas, darlin, highway, beer, roses, blues, darling, mountain, folks, ol, married, valley, old, singin, river, coffee, sang, drinkin, train, hills, cried, someday, rose, dear, memory, loved, lovin, truck, mornin, happiness, blue, bill, miles, prayer, honey, shore, sunshine, loving, steel, kissed, lord, arms, sunday, hallelujah, road\n",
      "\n",
      "Metal\n",
      "chaos, eternal, sword, gods, ancient, flesh, screams, suffering, souls, kingdom, terror, towards, satan, rage, darkness, death, their, shall, eternity, flames, lust, thy, endless, destroy, demons, bleeding, suffer, evil, gates, human, final, within, path, among, remains, anger, disease, sins, blood, force, veins, embrace, false, madness, dies, beyond, winds, unknown, reality, ashes\n",
      "\n"
     ]
    }
   ],
   "source": [
    "genres = df.genre.unique()\n",
    "for genre in genres:\n",
    "    print( genre )\n",
    "    print( \", \".join(word_freq.sort_values(genre, ascending=False).index[:50].values ) )\n",
    "    print()"
   ]
  },
  {
   "cell_type": "markdown",
   "metadata": {},
   "source": [
    "## Sentiment Analysis\n",
    "Estimate sentiment of words using word vectors.  \n",
    "In this section, we'll use the SemEval-2015 English Twitter Sentiment Lexicon.  \n",
    "The lexicon was used as an official test set in the SemEval-2015 shared Task #10: Subtask E, and contains a polarity score for words in range -1 (negative) to 1 (positive) - http://saifmohammad.com/WebPages/SCL.html#OPP"
   ]
  },
  {
   "cell_type": "markdown",
   "metadata": {},
   "source": [
    "Build a classifier for the sentiment of a word given its word vector. Split the data to a train and test sets, and report the model performance on both sets."
   ]
  },
  {
   "cell_type": "markdown",
   "metadata": {},
   "source": [
    "We start by downloading the data and extracting it. We will create a dictionary with the keys are the words and the values are their sentiment scores.  \n",
    "Note that the sentiment dataset contains terms of multiple words and hashtags - we will remove these from the dataset."
   ]
  },
  {
   "cell_type": "code",
   "execution_count": 10,
   "metadata": {},
   "outputs": [
    {
     "name": "stderr",
     "output_type": "stream",
     "text": [
      "'wget' is not recognized as an internal or external command,\n",
      "operable program or batch file.\n",
      "unzip:  cannot find or open SemEval2015-English-Twitter-Lexicon.zip, SemEval2015-English-Twitter-Lexicon.zip.zip or SemEval2015-English-Twitter-Lexicon.zip.ZIP.\n",
      "head: cannot open 'SemEval2015-English-Twitter-Lexicon/SemEval2015-English-Twitter-Lexicon.txt' for reading: No such file or directory\n"
     ]
    }
   ],
   "source": [
    "!wget http://saifmohammad.com/WebDocs/lexiconstoreleaseonsclpage/SemEval2015-English-Twitter-Lexicon.zip\n",
    "!unzip SemEval2015-English-Twitter-Lexicon.zip\n",
    "!head SemEval2015-English-Twitter-Lexicon/SemEval2015-English-Twitter-Lexicon.txt"
   ]
  },
  {
   "cell_type": "code",
   "execution_count": 37,
   "metadata": {},
   "outputs": [
    {
     "name": "stderr",
     "output_type": "stream",
     "text": [
      "'wget' is not recognized as an internal or external command,\n",
      "operable program or batch file.\n",
      "unzip:  cannot find or open glove.twitter.27B.zip, glove.twitter.27B.zip.zip or glove.twitter.27B.zip.ZIP.\n"
     ]
    }
   ],
   "source": [
    "!wget http://nlp.stanford.edu/data/glove.twitter.27B.zip\n",
    "!unzip glove.twitter.27B.zip"
   ]
  },
  {
   "cell_type": "code",
   "execution_count": 48,
   "metadata": {},
   "outputs": [],
   "source": [
    "if False:\n",
    "    # https://radimrehurek.com/gensim/scripts/glove2word2vec.html\n",
    "    tmp_file = get_tmpfile(\"w2v.twitter.27B.100d.txt\")\n",
    "    glove2word2vec('glove.twitter.27B.100d.txt', tmp_file)\n",
    "    w2v_pretrained = KeyedVectors.load_word2vec_format(tmp_file)\n",
    "else:\n",
    "    w2v_pretrained = gensim.models.KeyedVectors.load_word2vec_format(r'E:\\sharedfolder\\data\\word_vectors\\GoogleNews-vectors-negative300.bin', binary=True)  "
   ]
  },
  {
   "cell_type": "code",
   "execution_count": 51,
   "metadata": {},
   "outputs": [],
   "source": [
    "import numpy as np\n",
    "from sklearn.model_selection import train_test_split\n",
    "\n",
    "with open('data/SemEval2015-English-Twitter-Lexicon.txt', 'r') as f:\n",
    "    scores, sentiment_words = zip(*[line.strip().split() for line in f.readlines()])\n",
    "\n",
    "twitter_sentiment_words = [w[1:] if w.startswith('#') else w for w in sentiment_words]\n",
    "X = []\n",
    "y = []\n",
    "\n",
    "for i in range(len(scores)):\n",
    "    if twitter_sentiment_words[i] in w2v_pretrained:\n",
    "        X.append(w2v_pretrained[twitter_sentiment_words[i]])\n",
    "        y.append(scores[i])\n",
    "\n",
    "X = np.array(X, dtype='float')\n",
    "y = np.array(y, dtype='float')\n",
    "\n",
    "X_train, X_test, y_train, y_test = \\\n",
    "  train_test_split(X, y, test_size=0.1, random_state=0) # We used 10,000 songs from each category - 1,000 songs in the test set seem like a lot. "
   ]
  },
  {
   "cell_type": "markdown",
   "metadata": {},
   "source": [
    "Next let's build a regressor to predict the sentiment of a word from its word vector. We use the word vectors trained on our corpus of song lyrics.  \n",
    "Let's try a few different algorithms, and choose the one with the smallest MSE on the test set:"
   ]
  },
  {
   "cell_type": "code",
   "execution_count": 52,
   "metadata": {},
   "outputs": [
    {
     "name": "stdout",
     "output_type": "stream",
     "text": [
      "{'LinearRegression': 0.11316787422814172, 'MLPRegressor': 0.08405986940644739, 'RandomForestRegressor': 0.12179120746331178, 'GradientBoostingRegressor': 0.09483046904883626, 'SVR': 0.09441319559993488}\n"
     ]
    }
   ],
   "source": [
    "from sklearn import metrics\n",
    "\n",
    "from sklearn.neural_network import MLPRegressor\n",
    "from sklearn.linear_model import LinearRegression\n",
    "from sklearn.ensemble import RandomForestRegressor, GradientBoostingRegressor\n",
    "from sklearn.svm import SVR\n",
    "\n",
    "models = [\n",
    "    LinearRegression(),\n",
    "    MLPRegressor(max_iter=1000, tol=1e-5, hidden_layer_sizes=(300,200,100)),\n",
    "    RandomForestRegressor(),\n",
    "    GradientBoostingRegressor(),\n",
    "    SVR()\n",
    "]\n",
    "score = {}\n",
    "for model in models:\n",
    "    model_name = str(model).split('(')[0]\n",
    "    model.fit(X_train, y_train)\n",
    "    y_pred = model.predict(X_test)\n",
    "    score[model_name] = metrics.mean_squared_error(y_test, y_pred)\n",
    "\n",
    "print(score)"
   ]
  },
  {
   "cell_type": "code",
   "execution_count": 53,
   "metadata": {},
   "outputs": [],
   "source": [
    "model = models[-1]"
   ]
  },
  {
   "cell_type": "markdown",
   "metadata": {},
   "source": [
    "Use your trained model from the previous question to predict the sentiment score of words in the lyrics corpus that are not part of the original sentiment dataset. Review the words with the highest positive and negative sentiment. Do the results make sense?"
   ]
  },
  {
   "cell_type": "code",
   "execution_count": 54,
   "metadata": {},
   "outputs": [
    {
     "name": "stdout",
     "output_type": "stream",
     "text": [
      " --- top 20 negative sentiment score --\n",
      "thug            -0.680940\n",
      "stupid          -0.637624\n",
      "thugs           -0.542461\n",
      "mis             -0.535182\n",
      "dead            -0.533821\n",
      "ghetto          -0.516853\n",
      "drunk           -0.510473\n",
      "bleed           -0.506762\n",
      "scared          -0.498976\n",
      "lying           -0.493144\n",
      "bullshit        -0.489282\n",
      "blame           -0.485164\n",
      "fear            -0.466601\n",
      "crime           -0.459788\n",
      "weak            -0.440101\n",
      "evil            -0.436933\n",
      "pain            -0.435080\n",
      "motherfuckers   -0.434349\n",
      "fools           -0.423998\n",
      "killing         -0.423875\n",
      "dtype: float64\n",
      "\n",
      " --- top 20 positive sentiment score --\n",
      "dream       0.431751\n",
      "together    0.432483\n",
      "glory       0.438293\n",
      "shining     0.455213\n",
      "skies       0.455951\n",
      "shine       0.476554\n",
      "grace       0.479141\n",
      "sun         0.487950\n",
      "movin       0.490266\n",
      "pride       0.493117\n",
      "vision      0.515964\n",
      "bright      0.523533\n",
      "warm        0.530904\n",
      "flowers     0.534220\n",
      "magic       0.538662\n",
      "hello       0.542103\n",
      "hi          0.569705\n",
      "proud       0.606583\n",
      "joy         0.678162\n",
      "spirit      0.682169\n",
      "dtype: float64\n"
     ]
    }
   ],
   "source": [
    "num_words = 0\n",
    "test_words = []\n",
    "for w, _ in freqs_bg.most_common(10000):\n",
    "    if w not in sentiment_words and w in w2v_pretrained:\n",
    "        test_words.append(w)\n",
    "        num_words += 1\n",
    "    if num_words == 1000:\n",
    "        break\n",
    "\n",
    "similar_words_features = np.array([w2v_pretrained[w] for w in test_words], 'float')\n",
    "sentiment_scores = model.predict(similar_words_features)\n",
    "\n",
    "df_predicted_sentiment = pd.Series(sentiment_scores, index=test_words)\n",
    "\n",
    "print(' --- top 20 negative sentiment score --')\n",
    "print( df_predicted_sentiment.sort_values().head(20) )\n",
    "\n",
    "print()\n",
    "print(' --- top 20 positive sentiment score --')\n",
    "print( df_predicted_sentiment.sort_values().tail(20) )"
   ]
  },
  {
   "cell_type": "markdown",
   "metadata": {},
   "source": [
    "### Visualize Word Vectors\n",
    "In this section, you'll plot words on a 2D grid based on their inner similarity. We'll use the tSNE transformation to reduce dimensions from 300 to 2. You can get sample code from https://www.kaggle.com/pierremegret/gensim-word2vec-tutorial or other tutorials online.\n",
    "\n",
    "Perform the following:\n",
    "- Keep only the 3,000 most frequent words (after removing stopwords)\n",
    "- For this list, compute for each word its relative abundance in each of the genres\n",
    "- Compute the ratio between the proportion of each word in each genre and the proportion of the word in the entire corpus (the background distribution)\n",
    "- Pick the top 50 words for each genre. These words give good indication for that genre. Join the words from all genres into a single list of top significant words. \n",
    "- Compute tSNE transformation to 2D for all words, based on their word vectors\n",
    "- Plot the list of the top significant words in 2D. Next to each word output its text. The color of each point should indicate the genre for which it is most significant.\n",
    "\n",
    "You might prefer to use a different number of points or a slightly different methodology for improved results.  \n",
    "Analyze the results."
   ]
  },
  {
   "cell_type": "code",
   "execution_count": 66,
   "metadata": {},
   "outputs": [],
   "source": [
    "import itertools\n",
    "words = list(set(list(itertools.chain.from_iterable([word_freq.sort_values(genre, ascending=False).index[:50].values for genre in genres]))))"
   ]
  },
  {
   "cell_type": "code",
   "execution_count": 71,
   "metadata": {},
   "outputs": [
    {
     "name": "stderr",
     "output_type": "stream",
     "text": [
      "C:\\ProgramData\\Anaconda3\\lib\\site-packages\\ipykernel_launcher.py:2: DeprecationWarning: Call to deprecated `__getitem__` (Method will be removed in 4.0.0, use self.wv.__getitem__() instead).\n",
      "  \n"
     ]
    }
   ],
   "source": [
    "from sklearn.manifold import TSNE\n",
    "X = [w2v[w] for w in words]\n",
    "X_embedded = TSNE(n_components=2).fit_transform(X)"
   ]
  },
  {
   "cell_type": "code",
   "execution_count": 72,
   "metadata": {},
   "outputs": [
    {
     "data": {
      "text/plain": [
       "(248, 2)"
      ]
     },
     "execution_count": 72,
     "metadata": {},
     "output_type": "execute_result"
    }
   ],
   "source": [
    "X_embedded.shape"
   ]
  },
  {
   "cell_type": "code",
   "execution_count": 73,
   "metadata": {},
   "outputs": [
    {
     "name": "stderr",
     "output_type": "stream",
     "text": [
      "C:\\ProgramData\\Anaconda3\\lib\\site-packages\\ipykernel_launcher.py:2: FutureWarning: \n",
      "The current behaviour of 'Series.argmax' is deprecated, use 'idxmax'\n",
      "instead.\n",
      "The behavior of 'argmax' will be corrected to return the positional\n",
      "maximum in the future. For now, use 'series.values.argmax' or\n",
      "'np.argmax(np.array(values))' to get the position of the maximum\n",
      "row.\n",
      "  \n",
      "C:\\ProgramData\\Anaconda3\\lib\\site-packages\\ipykernel_launcher.py:3: FutureWarning: \n",
      "The current behaviour of 'Series.argmax' is deprecated, use 'idxmax'\n",
      "instead.\n",
      "The behavior of 'argmax' will be corrected to return the positional\n",
      "maximum in the future. For now, use 'series.values.argmax' or\n",
      "'np.argmax(np.array(values))' to get the position of the maximum\n",
      "row.\n",
      "  This is separate from the ipykernel package so we can avoid doing imports until\n"
     ]
    }
   ],
   "source": [
    "colors = ['r', 'g', 'b', 'k', 'y']\n",
    "c = [colors[list(genres).index(word_freq.loc[w].argmax())] for w in words]\n",
    "word_genre = np.array( [word_freq.loc[w].argmax() for w in words] )"
   ]
  },
  {
   "cell_type": "code",
   "execution_count": 74,
   "metadata": {},
   "outputs": [
    {
     "data": {
      "image/png": "[encoded data removed]",
      "text/plain": [
       "<Figure size 1440x864 with 1 Axes>"
      ]
     },
     "metadata": {
      "needs_background": "light"
     },
     "output_type": "display_data"
    }
   ],
   "source": [
    "plt.figure(figsize=(20,12))\n",
    "\n",
    "x = X_embedded[:,0];\n",
    "y = X_embedded[:,1];\n",
    "\n",
    "for i,genre in enumerate(genres):\n",
    "    ids = np.where( word_genre==genre )[0]\n",
    "    plt.plot(x[ids], y[ids], '.', color=colors[i], label=genre)\n",
    "for i, word in enumerate(words):\n",
    "    plt.annotate(word, alpha=0.5, xy=(x[i], y[i]), xytext=(5, 2),\n",
    "                 textcoords='offset points', ha='right', va='bottom', size=12)\n",
    "plt.legend();"
   ]
  },
  {
   "cell_type": "code",
   "execution_count": null,
   "metadata": {},
   "outputs": [],
   "source": []
  }
 ],
 "metadata": {
  "kernelspec": {
   "display_name": "Python 3",
   "language": "python",
   "name": "python3"
  },
  "language_info": {
   "codemirror_mode": {
    "name": "ipython",
    "version": 3
   },
   "file_extension": ".py",
   "mimetype": "text/x-python",
   "name": "python",
   "nbconvert_exporter": "python",
   "pygments_lexer": "ipython3",
   "version": "3.7.0"
  }
 },
 "nbformat": 4,
 "nbformat_minor": 2
}
