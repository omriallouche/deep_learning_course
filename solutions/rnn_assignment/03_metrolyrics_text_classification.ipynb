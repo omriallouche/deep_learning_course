{
 "cells": [
  {
   "cell_type": "markdown",
   "metadata": {},
   "source": [
    "# Metrolyrics Text Classification"
   ]
  },
  {
   "cell_type": "markdown",
   "metadata": {},
   "source": [
    "## Text Classification\n",
    "In this section, you'll build a text classifier, determining the genre of a song based on its lyrics."
   ]
  },
  {
   "cell_type": "code",
   "execution_count": 1,
   "metadata": {},
   "outputs": [],
   "source": [
    "import pandas as pd\n",
    "import numpy as np\n",
    "\n",
    "import matplotlib.pyplot as plt\n",
    "%matplotlib inline \n",
    "import seaborn as sns\n",
    "\n",
    "# from sklearn import metrics\n",
    "# from sklearn.model_selection import train_test_split\n",
    "# from sklearn.decomposition import PCA\n",
    "# from sklearn.manifold import TSNE\n",
    "\n",
    "# from sklearn.pipeline import Pipeline\n",
    "# from sklearn.feature_extraction.text import CountVectorizer, TfidfVectorizer\n",
    "# from sklearn.feature_extraction.text import TfidfTransformer\n",
    "# from sklearn.naive_bayes import MultinomialNB\n",
    "# from sklearn.ensemble import ExtraTreesClassifier"
   ]
  },
  {
   "cell_type": "code",
   "execution_count": 2,
   "metadata": {},
   "outputs": [],
   "source": [
    "df = pd.read_parquet('lyrics.parquet')"
   ]
  },
  {
   "cell_type": "markdown",
   "metadata": {},
   "source": [
    "### Text classification using Bag-of-Words\n",
    "Build a Naive Bayes classifier based on the bag of Words.  \n",
    "You will need to divide your dataset into a train and test sets."
   ]
  },
  {
   "cell_type": "markdown",
   "metadata": {},
   "source": [
    "Our dataset is pretty large, and keeping 10% for test still gives us 1,000 songs for each category.  \n",
    "I would even consider a small percentage of test set, if I have reasons to believe more data would greatly improve the classifier performance."
   ]
  },
  {
   "cell_type": "code",
   "execution_count": 3,
   "metadata": {},
   "outputs": [],
   "source": [
    "from sklearn.model_selection import train_test_split\n",
    "from sklearn.feature_extraction.text import CountVectorizer\n",
    "count_vect = CountVectorizer()\n",
    "\n",
    "X_train, X_test, y_train, y_test = \\\n",
    "  train_test_split(df.sent, df.genre, test_size=0.1, random_state=0) # We used 10,000 songs from each category - 1,000 songs in the test set seem like a lot. \n",
    "\n",
    "X_train_counts = count_vect.fit_transform(X_train)\n",
    "X_test_counts = count_vect.transform(X_test)"
   ]
  },
  {
   "cell_type": "markdown",
   "metadata": {},
   "source": [
    "Note that the count vectorizer is only fitted on the train set. It's very easy to allow a leakage in these cases.  \n",
    "The safest way to avoid them is using pipelines, but here we'll focus on regular flow."
   ]
  },
  {
   "cell_type": "code",
   "execution_count": 4,
   "metadata": {
    "scrolled": true
   },
   "outputs": [
    {
     "data": {
      "text/plain": [
       "MultinomialNB(alpha=1, class_prior=None, fit_prior=True)"
      ]
     },
     "execution_count": 4,
     "metadata": {},
     "output_type": "execute_result"
    }
   ],
   "source": [
    "from sklearn.naive_bayes import MultinomialNB\n",
    "from sklearn.metrics import confusion_matrix, classification_report\n",
    "\n",
    "model = MultinomialNB(alpha=1)\n",
    "model.fit(X_train_counts, y_train)"
   ]
  },
  {
   "cell_type": "code",
   "execution_count": 5,
   "metadata": {},
   "outputs": [
    {
     "data": {
      "text/plain": [
       "Pipeline(memory=None,\n",
       "     steps=[('countvectorizer', CountVectorizer(analyzer='word', binary=False, decode_error='strict',\n",
       "        dtype=<class 'numpy.int64'>, encoding='utf-8', input='content',\n",
       "        lowercase=True, max_df=1.0, max_features=None, min_df=1,\n",
       "        ngram_range=(1, 1), preprocessor=None, stop_words='english',\n",
       "        strip_accents=None, token_pattern='(?u)\\\\b\\\\w\\\\w+\\\\b',\n",
       "        tokenizer=None, vocabulary=None)), ('multinomialnb', MultinomialNB(alpha=1, class_prior=None, fit_prior=True))])"
      ]
     },
     "execution_count": 5,
     "metadata": {},
     "output_type": "execute_result"
    }
   ],
   "source": [
    "from sklearn.pipeline import make_pipeline\n",
    "from sklearn.pipeline import Pipeline\n",
    "\n",
    "nb = MultinomialNB(alpha=1)\n",
    "count_vect = CountVectorizer(stop_words='english')\n",
    "nb_pipe = make_pipeline(count_vect, nb)\n",
    "nb_pipe.fit(X_train,y_train)"
   ]
  },
  {
   "cell_type": "markdown",
   "metadata": {},
   "source": [
    "Show the confusion matrix."
   ]
  },
  {
   "cell_type": "markdown",
   "metadata": {},
   "source": [
    "Note below that when Y values are the names of the classes as strings, the report includes them and is much easier to interpret."
   ]
  },
  {
   "cell_type": "code",
   "execution_count": 6,
   "metadata": {},
   "outputs": [],
   "source": [
    "genres = sorted(df.genre.unique())"
   ]
  },
  {
   "cell_type": "code",
   "execution_count": 7,
   "metadata": {},
   "outputs": [
    {
     "name": "stdout",
     "output_type": "stream",
     "text": [
      "Performance on the train set:\n",
      "         Country  Hip-Hop  Metal   Pop  Rock\n",
      "Country     6485       57    135   259   525\n",
      "Hip-Hop      261     7083    173   814   486\n",
      "Metal        213      265   6468   290  1185\n",
      "Pop         2104      607    429  4126  2461\n",
      "Rock        2047      408    899   785  6413\n",
      "\n",
      "Performance on the test set:\n",
      "         Country  Hip-Hop  Metal  Pop  Rock\n",
      "Country      664       10     15   34    90\n",
      "Hip-Hop       31      729     22   83    48\n",
      "Metal         34       39    747   36   162\n",
      "Pop          253       92     48  357   323\n",
      "Rock         278       89    129  118   567\n"
     ]
    }
   ],
   "source": [
    "# Predict\n",
    "print('Performance on the train set:')\n",
    "y_pred = model.predict(X_train_counts)\n",
    "cm = confusion_matrix(y_train, y_pred)\n",
    "print( pd.DataFrame(cm, index=genres, columns=genres) )\n",
    "\n",
    "print('\\nPerformance on the test set:')\n",
    "y_pred = model.predict(X_test_counts)\n",
    "cm = confusion_matrix(y_test, y_pred)\n",
    "print( pd.DataFrame(cm, index=genres, columns=genres) )"
   ]
  },
  {
   "cell_type": "markdown",
   "metadata": {},
   "source": [
    "Show the classification report - precision, recall, f1 for each class."
   ]
  },
  {
   "cell_type": "code",
   "execution_count": 8,
   "metadata": {},
   "outputs": [
    {
     "name": "stdout",
     "output_type": "stream",
     "text": [
      "             precision    recall  f1-score   support\n",
      "\n",
      "    Country       0.53      0.82      0.64       813\n",
      "    Hip-Hop       0.76      0.80      0.78       913\n",
      "      Metal       0.78      0.73      0.75      1018\n",
      "        Pop       0.57      0.33      0.42      1073\n",
      "       Rock       0.48      0.48      0.48      1181\n",
      "\n",
      "avg / total       0.62      0.61      0.60      4998\n",
      "\n"
     ]
    }
   ],
   "source": [
    "y_pred = model.predict(X_test_counts)\n",
    "print( classification_report(y_test, y_pred ))"
   ]
  },
  {
   "cell_type": "markdown",
   "metadata": {},
   "source": [
    "The confusion matrix is sometimes better displayed visually, as a heatmap.  \n",
    "Seaborn provides a simple syntax for displaying a heatmap. We can also add as annotations the counts."
   ]
  },
  {
   "cell_type": "code",
   "execution_count": 9,
   "metadata": {},
   "outputs": [
    {
     "data": {
      "text/plain": [
       "<matplotlib.axes._subplots.AxesSubplot at 0x16fb08572b0>"
      ]
     },
     "execution_count": 9,
     "metadata": {},
     "output_type": "execute_result"
    },
    {
     "data": {
      "image/png": "[encoded data removed]",
      "text/plain": [
       "<Figure size 432x288 with 2 Axes>"
      ]
     },
     "metadata": {
      "needs_background": "light"
     },
     "output_type": "display_data"
    }
   ],
   "source": [
    "import seaborn as sns\n",
    "cm = confusion_matrix(y_test, y_pred)\n",
    "_ = pd.DataFrame(cm, index=genres, columns=genres)\n",
    "sns.heatmap( _, annot=True, fmt='2d' )"
   ]
  },
  {
   "cell_type": "markdown",
   "metadata": {},
   "source": [
    "When we created our dataset, we kept roughly an equal number of songs from each genre. Without this step, there would be much more cases of Rock songs, and the heatmap would be dominated by this row/column, attenuating all other genres.  \n",
    "If this is the case, it is often helpful to display the heatmap normalized by the row or column:"
   ]
  },
  {
   "cell_type": "code",
   "execution_count": 10,
   "metadata": {},
   "outputs": [
    {
     "name": "stdout",
     "output_type": "stream",
     "text": [
      "          Country   Hip-Hop     Metal       Pop      Rock\n",
      "Country  0.526984  0.010428  0.015609  0.054140  0.075630\n",
      "Hip-Hop  0.024603  0.760167  0.022893  0.132166  0.040336\n",
      "Metal    0.026984  0.040667  0.777315  0.057325  0.136134\n",
      "Pop      0.200794  0.095933  0.049948  0.568471  0.271429\n",
      "Rock     0.220635  0.092805  0.134235  0.187898  0.476471\n"
     ]
    },
    {
     "data": {
      "image/png": "[encoded data removed]",
      "text/plain": [
       "<Figure size 432x288 with 2 Axes>"
      ]
     },
     "metadata": {
      "needs_background": "light"
     },
     "output_type": "display_data"
    }
   ],
   "source": [
    "cm = confusion_matrix(y_test, y_pred)\n",
    "cm = pd.DataFrame(cm, index=genres, columns=genres)\n",
    "normalized_cm = cm / cm.sum(axis=0)\n",
    "print(normalized_cm)\n",
    "sns.heatmap(normalized_cm, annot=True, fmt='.2g' );"
   ]
  },
  {
   "cell_type": "code",
   "execution_count": 11,
   "metadata": {},
   "outputs": [
    {
     "name": "stdout",
     "output_type": "stream",
     "text": [
      "          Country   Hip-Hop     Metal       Pop      Rock\n",
      "Country  0.816728  0.010953  0.014735  0.031687  0.076207\n",
      "Hip-Hop  0.038130  0.798467  0.021611  0.077353  0.040644\n",
      "Metal    0.041820  0.042716  0.733792  0.033551  0.137172\n",
      "Pop      0.311193  0.100767  0.047151  0.332712  0.273497\n",
      "Rock     0.341943  0.097481  0.126719  0.109972  0.480102\n"
     ]
    },
    {
     "data": {
      "image/png": "[encoded data removed]",
      "text/plain": [
       "<Figure size 432x288 with 2 Axes>"
      ]
     },
     "metadata": {
      "needs_background": "light"
     },
     "output_type": "display_data"
    }
   ],
   "source": [
    "cm = confusion_matrix(y_test, y_pred)\n",
    "cm = pd.DataFrame(cm, index=genres, columns=genres)\n",
    "normalized_cm = cm / cm.sum(axis=1)\n",
    "print(normalized_cm)\n",
    "sns.heatmap(normalized_cm, annot=True, fmt='.2g' );"
   ]
  },
  {
   "cell_type": "markdown",
   "metadata": {},
   "source": [
    "### Text classification using Word Vectors\n",
    "#### Average word vectors\n",
    "Do the same, using a classifier that averages the word vectors of words in the document."
   ]
  },
  {
   "cell_type": "code",
   "execution_count": 12,
   "metadata": {},
   "outputs": [],
   "source": [
    "import gensim\n",
    "w2v = gensim.models.Word2Vec(df.sent.str.split(), sg=1, min_count=20, size=50, window=5, workers=7)"
   ]
  },
  {
   "cell_type": "code",
   "execution_count": 13,
   "metadata": {},
   "outputs": [],
   "source": [
    "def word_vec_mean(X):\n",
    "    return [np.mean(list(w2v[w] for w in sent.split() if w in w2v), axis=0) for sent in X]"
   ]
  },
  {
   "cell_type": "code",
   "execution_count": 14,
   "metadata": {},
   "outputs": [
    {
     "name": "stderr",
     "output_type": "stream",
     "text": [
      "C:\\ProgramData\\Anaconda3\\lib\\site-packages\\ipykernel_launcher.py:2: DeprecationWarning: Call to deprecated `__contains__` (Method will be removed in 4.0.0, use self.wv.__contains__() instead).\n",
      "  \n",
      "C:\\ProgramData\\Anaconda3\\lib\\site-packages\\ipykernel_launcher.py:2: DeprecationWarning: Call to deprecated `__getitem__` (Method will be removed in 4.0.0, use self.wv.__getitem__() instead).\n",
      "  \n"
     ]
    }
   ],
   "source": [
    "X_train_vec = np.array(word_vec_mean(X_train))\n",
    "X_test_vec = np.array(word_vec_mean(X_test))"
   ]
  },
  {
   "cell_type": "code",
   "execution_count": 15,
   "metadata": {
    "scrolled": false
   },
   "outputs": [
    {
     "data": {
      "text/plain": [
       "LogisticRegression(C=1.0, class_weight=None, dual=False, fit_intercept=True,\n",
       "          intercept_scaling=1, max_iter=100, multi_class='ovr', n_jobs=1,\n",
       "          penalty='l2', random_state=None, solver='liblinear', tol=0.0001,\n",
       "          verbose=0, warm_start=False)"
      ]
     },
     "execution_count": 15,
     "metadata": {},
     "output_type": "execute_result"
    }
   ],
   "source": [
    "from sklearn.svm import SVC\n",
    "from sklearn.linear_model import LogisticRegression\n",
    "\n",
    "model = LogisticRegression()\n",
    "model.fit(X_train_vec, y_train)"
   ]
  },
  {
   "cell_type": "code",
   "execution_count": 16,
   "metadata": {},
   "outputs": [
    {
     "name": "stdout",
     "output_type": "stream",
     "text": [
      "Performance on the train set:\n",
      "         Country  Hip-Hop  Metal   Pop  Rock\n",
      "Country     4532      181    238  1191  1319\n",
      "Hip-Hop      148     6864    261  1078   466\n",
      "Metal        173      429   6266   564   989\n",
      "Pop         1263      925    641  4851  2047\n",
      "Rock        1759      764   1692  2431  3906\n",
      "\n",
      "Performance on the test set:\n",
      "         Country  Hip-Hop  Metal  Pop  Rock\n",
      "Country      498       16     24  135   140\n",
      "Hip-Hop       12      709     41  101    50\n",
      "Metal         25       51    782   53   107\n",
      "Pop          139      105     68  531   230\n",
      "Rock         179       96    187  280   439\n"
     ]
    }
   ],
   "source": [
    "# Predict\n",
    "print('Performance on the train set:')\n",
    "y_pred = model.predict(X_train_vec)\n",
    "cm = confusion_matrix(y_train, y_pred)\n",
    "print( pd.DataFrame(cm, index=genres, columns=genres) )\n",
    "\n",
    "print('\\nPerformance on the test set:')\n",
    "y_pred = model.predict(X_test_vec)\n",
    "cm = confusion_matrix(y_test, y_pred)\n",
    "print( pd.DataFrame(cm, index=genres, columns=genres) )"
   ]
  },
  {
   "cell_type": "code",
   "execution_count": 17,
   "metadata": {},
   "outputs": [
    {
     "name": "stdout",
     "output_type": "stream",
     "text": [
      "             precision    recall  f1-score   support\n",
      "\n",
      "    Country       0.58      0.61      0.60       813\n",
      "    Hip-Hop       0.73      0.78      0.75       913\n",
      "      Metal       0.71      0.77      0.74      1018\n",
      "        Pop       0.48      0.49      0.49      1073\n",
      "       Rock       0.45      0.37      0.41      1181\n",
      "\n",
      "avg / total       0.58      0.59      0.59      4998\n",
      "\n"
     ]
    }
   ],
   "source": [
    "y_pred = model.predict(X_test_vec)\n",
    "print( classification_report(y_test, y_pred ))"
   ]
  },
  {
   "cell_type": "markdown",
   "metadata": {},
   "source": [
    "The section above raises an interesting question - have we introduced leakage by using word vectors trained on the entire dataset, including that of the test data? What do you think?"
   ]
  },
  {
   "cell_type": "code",
   "execution_count": null,
   "metadata": {},
   "outputs": [],
   "source": []
  },
  {
   "cell_type": "code",
   "execution_count": 18,
   "metadata": {},
   "outputs": [],
   "source": [
    "#averaging word vectors for all words in the text\n",
    "# build a sklearn-compatible transformer \n",
    "class MeanEmbeddingVectorizer():\n",
    "    def __init__(self, word2vec, num_features=300):\n",
    "        self.word2vec = word2vec\n",
    "        self.dim = num_features\n",
    "    \n",
    "    def fit(self,X,y):\n",
    "        return self\n",
    "  \n",
    "    def transform(self, X):\n",
    "        # return np.array([np.mean([self.word2vec[w] for w in words if w in self.word2vec] or [np.zeros(self.dim)], axis=0) for words in X])\n",
    "        return [np.mean(list(self.word2vec[w] for w in sent.split() if w in w2v), axis=0) for sent in X]"
   ]
  },
  {
   "cell_type": "code",
   "execution_count": 19,
   "metadata": {},
   "outputs": [
    {
     "name": "stderr",
     "output_type": "stream",
     "text": [
      "C:\\ProgramData\\Anaconda3\\lib\\site-packages\\ipykernel_launcher.py:13: DeprecationWarning: Call to deprecated `__contains__` (Method will be removed in 4.0.0, use self.wv.__contains__() instead).\n",
      "  del sys.path[0]\n",
      "C:\\ProgramData\\Anaconda3\\lib\\site-packages\\ipykernel_launcher.py:13: DeprecationWarning: Call to deprecated `__getitem__` (Method will be removed in 4.0.0, use self.wv.__getitem__() instead).\n",
      "  del sys.path[0]\n"
     ]
    },
    {
     "data": {
      "text/plain": [
       "Pipeline(memory=None,\n",
       "     steps=[('meanembeddingvectorizer', <__main__.MeanEmbeddingVectorizer object at 0x0000016FDAD8B0F0>), ('logisticregression', LogisticRegression(C=1.0, class_weight=None, dual=False, fit_intercept=True,\n",
       "          intercept_scaling=1, max_iter=100, multi_class='ovr', n_jobs=1,\n",
       "          penalty='l2', random_state=None, solver='liblinear', tol=0.0001,\n",
       "          verbose=0, warm_start=False))])"
      ]
     },
     "execution_count": 19,
     "metadata": {},
     "output_type": "execute_result"
    }
   ],
   "source": [
    "clf = LogisticRegression()\n",
    "mean_vect = MeanEmbeddingVectorizer(w2v, 50)\n",
    "pipe = make_pipeline(mean_vect ,clf)\n",
    "pipe.fit(X_train,y_train)"
   ]
  },
  {
   "cell_type": "code",
   "execution_count": 20,
   "metadata": {},
   "outputs": [
    {
     "name": "stdout",
     "output_type": "stream",
     "text": [
      "             precision    recall  f1-score   support\n",
      "\n",
      "    Country       0.58      0.61      0.60       813\n",
      "    Hip-Hop       0.73      0.78      0.75       913\n",
      "      Metal       0.71      0.77      0.74      1018\n",
      "        Pop       0.48      0.49      0.49      1073\n",
      "       Rock       0.45      0.37      0.41      1181\n",
      "\n",
      "avg / total       0.58      0.59      0.59      4998\n",
      "\n"
     ]
    }
   ],
   "source": [
    "y_pred = model.predict(X_test_vec)\n",
    "print( classification_report(y_test, y_pred ))"
   ]
  },
  {
   "cell_type": "markdown",
   "metadata": {},
   "source": [
    "#### TfIdf Weighting\n",
    "Do the same, using a classifier that averages the word vectors of words in the document, weighting each word by its TfIdf.\n"
   ]
  },
  {
   "cell_type": "code",
   "execution_count": 24,
   "metadata": {},
   "outputs": [],
   "source": [
    "from sklearn.feature_extraction.text import TfidfVectorizer\n",
    "tfidf_vect = TfidfVectorizer(smooth_idf=True, sublinear_tf=False, norm=None, analyzer='word')\n",
    "X_train_tfidf = tfidf_vect.fit_transform(X_train)\n",
    "X_test_tfidf = tfidf_vect.transform(X_test)"
   ]
  },
  {
   "cell_type": "code",
   "execution_count": 58,
   "metadata": {},
   "outputs": [],
   "source": [
    "def word_vec_mean_weighted(X, X_weights,vocab):\n",
    "    result = []\n",
    "    for i,sent in enumerate(X):\n",
    "        weight = [0]*len(w2v['the'])\n",
    "        num_words = 0\n",
    "        for w in sent.split():\n",
    "            if w in w2v and w in vocab:\n",
    "                weight += w2v[w]*X_weights[i,vocab[w]]\n",
    "                num_words += 1\n",
    "        if num_words>0:\n",
    "            result.append(weight / num_words)\n",
    "        else:\n",
    "            result.append(weight)\n",
    "    return np.array(result)"
   ]
  },
  {
   "cell_type": "code",
   "execution_count": 54,
   "metadata": {},
   "outputs": [
    {
     "name": "stderr",
     "output_type": "stream",
     "text": [
      "C:\\ProgramData\\Anaconda3\\lib\\site-packages\\ipykernel_launcher.py:4: DeprecationWarning: Call to deprecated `__getitem__` (Method will be removed in 4.0.0, use self.wv.__getitem__() instead).\n",
      "  after removing the cwd from sys.path.\n",
      "C:\\ProgramData\\Anaconda3\\lib\\site-packages\\ipykernel_launcher.py:7: DeprecationWarning: Call to deprecated `__contains__` (Method will be removed in 4.0.0, use self.wv.__contains__() instead).\n",
      "  import sys\n",
      "C:\\ProgramData\\Anaconda3\\lib\\site-packages\\ipykernel_launcher.py:8: DeprecationWarning: Call to deprecated `__getitem__` (Method will be removed in 4.0.0, use self.wv.__getitem__() instead).\n",
      "  \n"
     ]
    }
   ],
   "source": [
    "X_test_vec = word_vec_mean_weighted(X_test, X_test_tfidf, tfidf_vect.vocabulary_)"
   ]
  },
  {
   "cell_type": "code",
   "execution_count": 59,
   "metadata": {},
   "outputs": [
    {
     "name": "stderr",
     "output_type": "stream",
     "text": [
      "C:\\ProgramData\\Anaconda3\\lib\\site-packages\\ipykernel_launcher.py:4: DeprecationWarning: Call to deprecated `__getitem__` (Method will be removed in 4.0.0, use self.wv.__getitem__() instead).\n",
      "  after removing the cwd from sys.path.\n",
      "C:\\ProgramData\\Anaconda3\\lib\\site-packages\\ipykernel_launcher.py:7: DeprecationWarning: Call to deprecated `__contains__` (Method will be removed in 4.0.0, use self.wv.__contains__() instead).\n",
      "  import sys\n",
      "C:\\ProgramData\\Anaconda3\\lib\\site-packages\\ipykernel_launcher.py:8: DeprecationWarning: Call to deprecated `__getitem__` (Method will be removed in 4.0.0, use self.wv.__getitem__() instead).\n",
      "  \n"
     ]
    }
   ],
   "source": [
    "X_train_vec = word_vec_mean_weighted(X_train, X_train_tfidf, tfidf_vect.vocabulary_)"
   ]
  },
  {
   "cell_type": "code",
   "execution_count": null,
   "metadata": {},
   "outputs": [],
   "source": [
    "# X_test_vec = np.array([sum(w2v[w]*X_test_tfidf[i,tfidf_vect.vocabulary_[w]] for w in sent if w in w2v and w in tfidf_vect.vocabulary_) for i,sent in enumerate(X_test)])"
   ]
  },
  {
   "cell_type": "code",
   "execution_count": 63,
   "metadata": {},
   "outputs": [
    {
     "data": {
      "text/plain": [
       "(44978, 50)"
      ]
     },
     "execution_count": 63,
     "metadata": {},
     "output_type": "execute_result"
    }
   ],
   "source": [
    "X_train_vec.shape"
   ]
  },
  {
   "cell_type": "code",
   "execution_count": 64,
   "metadata": {},
   "outputs": [
    {
     "data": {
      "text/plain": [
       "(44978,)"
      ]
     },
     "execution_count": 64,
     "metadata": {},
     "output_type": "execute_result"
    }
   ],
   "source": [
    "y_train.shape"
   ]
  },
  {
   "cell_type": "code",
   "execution_count": 62,
   "metadata": {},
   "outputs": [
    {
     "data": {
      "text/plain": [
       "LogisticRegression(C=1.0, class_weight=None, dual=False, fit_intercept=True,\n",
       "          intercept_scaling=1, max_iter=100, multi_class='ovr', n_jobs=1,\n",
       "          penalty='l2', random_state=None, solver='liblinear', tol=0.0001,\n",
       "          verbose=0, warm_start=False)"
      ]
     },
     "execution_count": 62,
     "metadata": {},
     "output_type": "execute_result"
    }
   ],
   "source": [
    "model = LogisticRegression()\n",
    "model.fit(X_train_vec, y_train)"
   ]
  },
  {
   "cell_type": "code",
   "execution_count": 65,
   "metadata": {},
   "outputs": [
    {
     "name": "stdout",
     "output_type": "stream",
     "text": [
      "             precision    recall  f1-score   support\n",
      "\n",
      "    Country       0.60      0.38      0.47       813\n",
      "    Hip-Hop       0.69      0.58      0.63       913\n",
      "      Metal       0.64      0.76      0.70      1018\n",
      "        Pop       0.40      0.55      0.46      1073\n",
      "       Rock       0.36      0.32      0.34      1181\n",
      "\n",
      "avg / total       0.53      0.52      0.51      4998\n",
      "\n"
     ]
    }
   ],
   "source": [
    "y_pred = model.predict(X_test_vec)\n",
    "print( classification_report(y_test, y_pred ))"
   ]
  },
  {
   "cell_type": "markdown",
   "metadata": {},
   "source": [
    "### Text classification using ConvNet\n",
    "Do the same, using a ConvNet.  \n",
    "The ConvNet should get as input a 2D matrix where each column is an embedding vector of a single word, and words are in order. Use zero padding so that all matrices have a similar length.  \n",
    "Some songs might be very long. Trim them so you keep a maximum of 128 words (after cleaning stop words and rare words).  \n",
    "Initialize the embedding layer using the word vectors that you've trained before, but allow them to change during training.  \n",
    "\n",
    "Extra: Try training the ConvNet with 2 slight modifications:\n",
    "1. freezing the the weights trained using Word2vec (preventing it from updating)\n",
    "1. random initialization of the embedding layer"
   ]
  },
  {
   "cell_type": "markdown",
   "metadata": {},
   "source": [
    "You are encouraged to try this question on your own.  \n",
    "\n",
    "You might prefer to get ideas from the paper \"Convolutional Neural Networks for Sentence Classification\" (Kim 2014, [link](https://arxiv.org/abs/1408.5882)).\n",
    "\n",
    "There are several implementations of the paper code in PyTorch online (see for example [this repo](https://github.com/prakashpandey9/Text-Classification-Pytorch) for a PyTorch implementation of CNN and other architectures for text classification). If you get stuck, they might provide you with a reference for your own code."
   ]
  },
  {
   "cell_type": "markdown",
   "metadata": {},
   "source": [
    "We will use code from the suggested repo above. We will create separate files for the train, validation and test datasets.  \n",
    "One consideration for us is what preprocessing we want to perform.  \n",
    "For example, should we remove stopwords? ConvNets have limited width, but stopwords have an effect on sentence structure that might be useful for classification. The answer isn't obvious and is best learned by experimenting."
   ]
  },
  {
   "cell_type": "code",
   "execution_count": null,
   "metadata": {},
   "outputs": [],
   "source": [
    "from torchtext import data\n",
    "from torchtext import datasets\n",
    "from torchtext.vocab import Vectors, GloVe\n",
    "import torch"
   ]
  },
  {
   "cell_type": "code",
   "execution_count": null,
   "metadata": {},
   "outputs": [],
   "source": [
    "tokenize = lambda x: x.split()\n",
    "TEXT = data.Field(sequential=True, tokenize=tokenize, lower=True, fix_length=128, batch_first=True)\n",
    "LABEL = data.Field(sequential=False,use_vocab=False)\n",
    "\n",
    "train, val, test = data.TabularDataset.splits(\n",
    "        path=DIR_PATH, train='train.csv',\n",
    "        validation='val.csv', test='test.csv', format='csv',\n",
    "    skip_header=True,\n",
    "        fields=[('lyrics_raw', TEXT), ('genre', LABEL)])"
   ]
  },
  {
   "cell_type": "code",
   "execution_count": null,
   "metadata": {},
   "outputs": [],
   "source": [
    "import torch\n",
    "from torch.autograd import Variable\n",
    "import torch.nn as nn\n",
    "import torch.nn.functional as F"
   ]
  },
  {
   "cell_type": "code",
   "execution_count": null,
   "metadata": {},
   "outputs": [],
   "source": [
    "# The input to the NN for each sonf will be a matrix od 128 lines= song words and 300 cols(features)\n",
    "# this is cuttong all songs that are more than 128 words to 128\n",
    "# music[\"128_words\"]=[song[:128] if len(song)>128 else song for song in  music[\"letters_only\"]]\n",
    "#remove all emty lines\n",
    "#music.drop(np.where(pd.Series([len(song) for song in  music.loc[:,\"letters_only\"]])==0)[0],inplace=True)\n",
    "#music['128_words_vec']=[model.wv[song] for song in  music.loc[:,\"128_words\"]]"
   ]
  }
 ],
 "metadata": {
  "kernelspec": {
   "display_name": "Python 3",
   "language": "python",
   "name": "python3"
  },
  "language_info": {
   "codemirror_mode": {
    "name": "ipython",
    "version": 3
   },
   "file_extension": ".py",
   "mimetype": "text/x-python",
   "name": "python",
   "nbconvert_exporter": "python",
   "pygments_lexer": "ipython3",
   "version": "3.7.0"
  }
 },
 "nbformat": 4,
 "nbformat_minor": 2
}
